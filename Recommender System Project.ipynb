{
 "cells": [
  {
   "cell_type": "markdown",
   "id": "05600c92",
   "metadata": {
    "id": "05600c92"
   },
   "source": [
    "<a id=\"cont\"></a>\n",
    "\n",
    "## Table of Contents\n",
    "\n",
    "<a href=#one>1. Importing Packages</a>\n",
    "\n",
    "<a href=#two>2. Loading Data</a>\n",
    "\n",
    "<a href=#three>3. Exploratory Data Analysis (EDA)</a>\n",
    "\n",
    "<a href=#four>4. Data Engineering</a>\n",
    "\n",
    "<a href=#five>5. Modeling</a>\n",
    "\n",
    "<a href=#six>6. Model Performance</a>\n",
    "\n",
    "<a href=#seven>7. Model Explanations</a>\n",
    "\n",
    "<a href=#eight>8. Recommendaction System Function</a>"
   ]
  },
  {
   "cell_type": "markdown",
   "id": "997462e2",
   "metadata": {
    "id": "997462e2"
   },
   "source": [
    " <a id=\"one\"></a>\n",
    "## 1. Importing Packages\n",
    "<a href=#cont>Back to Table of Contents</a>\n",
    "\n",
    "---\n",
    "    \n",
    "| ⚡ Description: Importing Packages ⚡ |\n",
    "| :--------------------------- |\n",
    "| In this section you are required to import, and briefly discuss, the libraries that will be used throughout your analysis and modelling. |\n",
    "\n",
    "---"
   ]
  },
  {
   "cell_type": "code",
   "execution_count": null,
   "id": "-Dsd_yq9d-wi",
   "metadata": {
    "colab": {
     "base_uri": "https://localhost:8080/"
    },
    "id": "-Dsd_yq9d-wi",
    "outputId": "31c42905-cdbc-45e7-b713-4a273d88f02a"
   },
   "outputs": [],
   "source": [
    "!pip install scikit-surprise"
   ]
  },
  {
   "cell_type": "code",
   "execution_count": 3,
   "id": "475dbe93",
   "metadata": {
    "ExecuteTime": {
     "end_time": "2021-06-23T10:30:53.800892Z",
     "start_time": "2021-06-23T10:30:50.215449Z"
    },
    "id": "475dbe93"
   },
   "outputs": [],
   "source": [
    "# Libraries for importing and loading data\n",
    "import numpy as np\n",
    "import pandas as pd\n",
    "from nltk.tokenize import word_tokenize, TreebankWordTokenizer\n",
    "import scipy as sp\n",
    "import matplotlib.pyplot as plt\n",
    "import seaborn as sns\n",
    "import os\n",
    "import pickle\n",
    "import joblib\n",
    "#from textwrap import wrap\n",
    "import re\n",
    "#from wordcloud import WordCloud\n",
    "\n",
    "# Entity featurization and similarity computation\n",
    "from sklearn.metrics.pairwise import cosine_similarity\n",
    "from sklearn.feature_extraction.text import TfidfVectorizer\n",
    "from surprise import SVD\n",
    "from surprise import SVDpp\n",
    "from surprise import CoClustering\n",
    "from surprise import Reader, Dataset\n",
    "from surprise.model_selection import GridSearchCV, cross_validate\n",
    "\n",
    "\n",
    "# Libraries used during sorting procedures.\n",
    "#import operator # <-- Convienient item retrieval during iteration\n",
    "#import heapq # <-- Efficient sorting of large lists\n",
    "from time import time\n",
    "\n",
    "# Setting global constants to ensure notebook results are reproducible\n",
    "\n",
    "RANDOM_STATE = 25\n",
    "\n",
    "\n",
    "import warnings\n",
    "warnings.filterwarnings('ignore')\n",
    "\n",
    "\n",
    "# Garbage Collector\n",
    "#import gc"
   ]
  },
  {
   "cell_type": "markdown",
   "id": "f22a6718",
   "metadata": {
    "id": "f22a6718"
   },
   "source": [
    "<a id=\"two\"></a>\n",
    "## 2. Loading the Data\n",
    "<a class=\"anchor\" id=\"1.1\"></a>\n",
    "<a href=#cont>Back to Table of Contents</a>\n",
    "\n",
    "---\n",
    "    \n",
    "| ⚡ Description: Loading the data ⚡ |\n",
    "| :--------------------------- |\n",
    "| In this section you are required to load the data from the `df_train` file into a DataFrame. |\n",
    "\n",
    "---"
   ]
  },
  {
   "cell_type": "markdown",
   "id": "siWxqSkjCc6d",
   "metadata": {
    "id": "siWxqSkjCc6d"
   },
   "source": [
    "### 2.1 Brief description of the data\n",
    "\n"
   ]
  },
  {
   "cell_type": "code",
   "execution_count": 5,
   "id": "fbbb6c18",
   "metadata": {
    "ExecuteTime": {
     "end_time": "2021-06-28T08:49:35.311495Z",
     "start_time": "2021-06-28T08:49:35.295494Z"
    },
    "id": "fbbb6c18"
   },
   "outputs": [],
   "source": [
    "# load the data\n",
    "train_df = pd.read_csv('train.csv')\n",
    "movies_df = pd.read_csv('movies.csv')\n",
    "imdb_df = pd.read_csv('imdb_data.csv')\n",
    "test_df = pd.read_csv('test.csv')\n",
    "links_df = pd.read_csv('links.csv')\n",
    "tags = pd.read_csv('tags.csv')\n",
    "genome_scores = pd.read_csv('genome_scores.csv')\n",
    "genome_tags = pd.read_csv('genome_tags.csv')\n",
    "sample_submissions = pd.read_csv('sample_submission.csv')"
   ]
  },
  {
   "cell_type": "code",
   "execution_count": 6,
   "id": "IJ4DkY-NDivs",
   "metadata": {
    "colab": {
     "base_uri": "https://localhost:8080/",
     "height": 224
    },
    "id": "IJ4DkY-NDivs",
    "outputId": "5d3f2ad4-3328-4a25-9133-1f282268ed9e"
   },
   "outputs": [
    {
     "name": "stdout",
     "output_type": "stream",
     "text": [
      "The Shape of the train data is: (10000038, 4)\n",
      "   userId  movieId  rating   timestamp\n",
      "0    5163    57669     4.0  1518349992\n",
      "1  106343        5     4.5  1206238739\n",
      "2  146790     5459     5.0  1076215539\n",
      "********************************************************\n",
      "The Shape of the test data is:  (5000019, 2)\n",
      "   userId  movieId\n",
      "0       1     2011\n",
      "1       1     4144\n",
      "2       1     5767\n",
      "********************************************************\n",
      "The Shape of the movies data is:  (62423, 3)\n",
      "   movieId                    title  \\\n",
      "0        1         Toy Story (1995)   \n",
      "1        2           Jumanji (1995)   \n",
      "2        3  Grumpier Old Men (1995)   \n",
      "\n",
      "                                        genres  \n",
      "0  Adventure|Animation|Children|Comedy|Fantasy  \n",
      "1                   Adventure|Children|Fantasy  \n",
      "2                               Comedy|Romance  \n",
      "********************************************************\n",
      "The Shape of the  IMDB data is:  (27278, 6)\n",
      "   movieId                                         title_cast  \\\n",
      "0        1  Tom Hanks|Tim Allen|Don Rickles|Jim Varney|Wal...   \n",
      "1        2  Robin Williams|Jonathan Hyde|Kirsten Dunst|Bra...   \n",
      "2        3  Walter Matthau|Jack Lemmon|Sophia Loren|Ann-Ma...   \n",
      "\n",
      "              director  runtime       budget                     plot_keywords  \n",
      "0        John Lasseter     81.0  $30,000,000  toy|rivalry|cowboy|cgi animation  \n",
      "1   Jonathan Hensleigh    104.0  $65,000,000  board game|adventurer|fight|game  \n",
      "2  Mark Steven Johnson    101.0  $25,000,000        boat|lake|neighbor|rivalry  \n",
      "********************************************************\n",
      "The Shape of the links data is:  (62423, 3)\n",
      "   movieId  imdbId   tmdbId\n",
      "0        1  114709    862.0\n",
      "1        2  113497   8844.0\n",
      "2        3  113228  15602.0\n",
      "********************************************************\n",
      "The Shape of the tags data is:  (1093360, 4)\n",
      "   userId  movieId          tag   timestamp\n",
      "0       3      260      classic  1439472355\n",
      "1       3      260       sci-fi  1439472256\n",
      "2       4     1732  dark comedy  1573943598\n",
      "********************************************************\n",
      "The Shape of the genome data is:  (15584448, 3)\n",
      "   movieId  tagId  relevance\n",
      "0        1      1    0.02875\n",
      "1        1      2    0.02375\n",
      "2        1      3    0.06250\n",
      "********************************************************\n",
      "The Shape of the genome_tags data is:  (1128, 2)\n",
      "   tagId           tag\n",
      "0      1           007\n",
      "1      2  007 (series)\n",
      "2      3  18th century\n"
     ]
    }
   ],
   "source": [
    "# Preview datasets\n",
    "print(f'The Shape of the train data is: {train_df.shape}')\n",
    "print(train_df.head(3))\n",
    "\n",
    "print(\"********************************************************\")\n",
    "print('The Shape of the test data is: ', test_df.shape)\n",
    "print(test_df.head(3))\n",
    "\n",
    "print(\"********************************************************\")\n",
    "print('The Shape of the movies data is: ', movies_df.shape)\n",
    "print(movies_df.head(3))\n",
    "\n",
    "print(\"********************************************************\")\n",
    "print('The Shape of the  IMDB data is: ', imdb_df.shape)\n",
    "print(imdb_df.head(3))\n",
    "\n",
    "print(\"********************************************************\")\n",
    "print('The Shape of the links data is: ', links_df.shape)\n",
    "print(links_df.head(3))\n",
    "\n",
    "print(\"********************************************************\")\n",
    "print('The Shape of the tags data is: ', tags.shape)\n",
    "print(tags.head(3))\n",
    "\n",
    "print(\"********************************************************\")\n",
    "print('The Shape of the genome data is: ', genome_scores.shape)\n",
    "print(genome_scores.head(3))\n",
    "\n",
    "print(\"********************************************************\")\n",
    "print('The Shape of the genome_tags data is: ', genome_tags.shape)\n",
    "print(genome_tags.head(3))"
   ]
  },
  {
   "cell_type": "code",
   "execution_count": 7,
   "id": "17aad2f9",
   "metadata": {
    "colab": {
     "base_uri": "https://localhost:8080/",
     "height": 224
    },
    "id": "17aad2f9",
    "outputId": "3db796ef-88f9-41df-f0a4-0e421920edee"
   },
   "outputs": [
    {
     "name": "stdout",
     "output_type": "stream",
     "text": [
      "The Shape of the data is:  (5000019, 2)\n"
     ]
    },
    {
     "data": {
      "text/html": [
       "<div>\n",
       "<style scoped>\n",
       "    .dataframe tbody tr th:only-of-type {\n",
       "        vertical-align: middle;\n",
       "    }\n",
       "\n",
       "    .dataframe tbody tr th {\n",
       "        vertical-align: top;\n",
       "    }\n",
       "\n",
       "    .dataframe thead th {\n",
       "        text-align: right;\n",
       "    }\n",
       "</style>\n",
       "<table border=\"1\" class=\"dataframe\">\n",
       "  <thead>\n",
       "    <tr style=\"text-align: right;\">\n",
       "      <th></th>\n",
       "      <th>userId</th>\n",
       "      <th>movieId</th>\n",
       "    </tr>\n",
       "  </thead>\n",
       "  <tbody>\n",
       "    <tr>\n",
       "      <th>0</th>\n",
       "      <td>1</td>\n",
       "      <td>2011</td>\n",
       "    </tr>\n",
       "    <tr>\n",
       "      <th>1</th>\n",
       "      <td>1</td>\n",
       "      <td>4144</td>\n",
       "    </tr>\n",
       "    <tr>\n",
       "      <th>2</th>\n",
       "      <td>1</td>\n",
       "      <td>5767</td>\n",
       "    </tr>\n",
       "    <tr>\n",
       "      <th>3</th>\n",
       "      <td>1</td>\n",
       "      <td>6711</td>\n",
       "    </tr>\n",
       "    <tr>\n",
       "      <th>4</th>\n",
       "      <td>1</td>\n",
       "      <td>7318</td>\n",
       "    </tr>\n",
       "  </tbody>\n",
       "</table>\n",
       "</div>"
      ],
      "text/plain": [
       "   userId  movieId\n",
       "0       1     2011\n",
       "1       1     4144\n",
       "2       1     5767\n",
       "3       1     6711\n",
       "4       1     7318"
      ]
     },
     "execution_count": 7,
     "metadata": {},
     "output_type": "execute_result"
    }
   ],
   "source": [
    "# Preview test dataset\n",
    "print('The Shape of the data is: ', test_df.shape)\n",
    "test_df.head()"
   ]
  },
  {
   "cell_type": "markdown",
   "id": "81132ab3",
   "metadata": {
    "id": "81132ab3"
   },
   "source": [
    "<a id=\"three\"></a>\n",
    "## 3. Exploratory Data Analysis (EDA)\n",
    "<a class=\"anchor\" id=\"1.1\"></a>\n",
    "<a href=#cont>Back to Table of Contents</a>\n",
    "\n",
    "---\n",
    "    \n",
    "| ⚡ Description: Exploratory data analysis ⚡ |\n",
    "| :--------------------------- |\n",
    "\n",
    "---\n"
   ]
  },
  {
   "cell_type": "markdown",
   "id": "8d9b4fcb",
   "metadata": {
    "id": "8d9b4fcb"
   },
   "source": [
    "### Train and Test Data\n",
    "We can start with the most important datasets which are the train and test datasets.\n",
    "Let us check for outliers, null values and column types."
   ]
  },
  {
   "cell_type": "code",
   "execution_count": 10,
   "id": "13b619b5",
   "metadata": {
    "colab": {
     "base_uri": "https://localhost:8080/"
    },
    "id": "13b619b5",
    "outputId": "d3ec7723-eb9b-4141-cf8c-77f21363ed1a"
   },
   "outputs": [
    {
     "name": "stdout",
     "output_type": "stream",
     "text": [
      "Train: \n",
      "userId       0\n",
      "movieId      0\n",
      "rating       0\n",
      "timestamp    0\n",
      "dtype: int64\n",
      "************\n",
      "Test: \n",
      "userId     0\n",
      "movieId    0\n",
      "dtype: int64\n",
      "************\n",
      "Movies: \n",
      "movieId    0\n",
      "title      0\n",
      "genres     0\n",
      "dtype: int64\n",
      "************\n",
      "Links: \n",
      "movieId      0\n",
      "imdbId       0\n",
      "tmdbId     107\n",
      "dtype: int64\n",
      "************\n",
      "IMDB: \n",
      "movieId              0\n",
      "title_cast       10068\n",
      "director          9874\n",
      "runtime          12089\n",
      "budget           19372\n",
      "plot_keywords    11078\n",
      "dtype: int64\n",
      "************\n",
      "Genome scores: \n",
      "movieId      0\n",
      "tagId        0\n",
      "relevance    0\n",
      "dtype: int64\n",
      "************\n",
      "Genome tags: \n",
      "tagId    0\n",
      "tag      0\n",
      "dtype: int64\n"
     ]
    }
   ],
   "source": [
    "# checking for null values\n",
    "print(\"Train: \")\n",
    "print(str(train_df.isnull().sum()))\n",
    "print(\"************\")\n",
    "print(\"Test: \")\n",
    "print(str(test_df.isnull().sum()))\n",
    "print(\"************\")\n",
    "print(\"Movies: \")\n",
    "print(str(movies_df.isnull().sum()))\n",
    "print(\"************\")\n",
    "print(\"Links: \")\n",
    "print(str(links_df.isnull().sum()))\n",
    "print(\"************\")\n",
    "print(\"IMDB: \")\n",
    "print(str(imdb_df.isnull().sum()))\n",
    "print(\"************\")\n",
    "print(\"Genome scores: \")\n",
    "print(str(genome_scores.isnull().sum()))\n",
    "print(\"************\")\n",
    "print(\"Genome tags: \")\n",
    "print(str(genome_tags.isnull().sum()))"
   ]
  },
  {
   "cell_type": "code",
   "execution_count": 11,
   "id": "106258a5",
   "metadata": {
    "colab": {
     "base_uri": "https://localhost:8080/"
    },
    "id": "106258a5",
    "outputId": "8d653d1a-4bfa-4bb3-8077-71d64fb4a78e"
   },
   "outputs": [
    {
     "name": "stdout",
     "output_type": "stream",
     "text": [
      "<class 'pandas.core.frame.DataFrame'>\n",
      "RangeIndex: 10000038 entries, 0 to 10000037\n",
      "Data columns (total 4 columns):\n",
      " #   Column     Dtype  \n",
      "---  ------     -----  \n",
      " 0   userId     int64  \n",
      " 1   movieId    int64  \n",
      " 2   rating     float64\n",
      " 3   timestamp  int64  \n",
      "dtypes: float64(1), int64(3)\n",
      "memory usage: 305.2 MB\n"
     ]
    }
   ],
   "source": [
    "# train column dtype check\n",
    "train_df.info()"
   ]
  },
  {
   "cell_type": "code",
   "execution_count": 12,
   "id": "f4a4e41c",
   "metadata": {
    "colab": {
     "base_uri": "https://localhost:8080/"
    },
    "id": "f4a4e41c",
    "outputId": "9562ecad-edd9-4faa-8925-6c5b017e1f00"
   },
   "outputs": [
    {
     "name": "stdout",
     "output_type": "stream",
     "text": [
      "<class 'pandas.core.frame.DataFrame'>\n",
      "RangeIndex: 5000019 entries, 0 to 5000018\n",
      "Data columns (total 2 columns):\n",
      " #   Column   Dtype\n",
      "---  ------   -----\n",
      " 0   userId   int64\n",
      " 1   movieId  int64\n",
      "dtypes: int64(2)\n",
      "memory usage: 76.3 MB\n"
     ]
    }
   ],
   "source": [
    "# test column dtype check\n",
    "test_df.info()"
   ]
  },
  {
   "cell_type": "code",
   "execution_count": 13,
   "id": "347f61ef",
   "metadata": {
    "colab": {
     "base_uri": "https://localhost:8080/"
    },
    "id": "347f61ef",
    "outputId": "61dbd4b3-7b13-4485-a251-4fc2addf6819"
   },
   "outputs": [
    {
     "name": "stdout",
     "output_type": "stream",
     "text": [
      "\n",
      "Train data\n",
      "userId        162541\n",
      "movieId        48213\n",
      "rating            10\n",
      "timestamp    8795101\n",
      "dtype: int64\n",
      "\n",
      "\n",
      "Test data\n",
      "userId     162350\n",
      "movieId     39643\n",
      "dtype: int64\n",
      "\n"
     ]
    }
   ],
   "source": [
    "# checking for null values\n",
    "print(f'''\n",
    "Train data\n",
    "{train_df.nunique()}\n",
    "''')\n",
    "print(f'''\n",
    "Test data\n",
    "{test_df.nunique()}\n",
    "''')"
   ]
  },
  {
   "cell_type": "markdown",
   "id": "afbb4be3",
   "metadata": {
    "id": "afbb4be3"
   },
   "source": [
    "Let's visualize the rating distributions."
   ]
  },
  {
   "cell_type": "code",
   "execution_count": 15,
   "id": "07e726f5",
   "metadata": {
    "id": "07e726f5"
   },
   "outputs": [],
   "source": [
    "# group by ratings for visualization\n",
    "ratings_df = train_df.groupby(['rating']).count()"
   ]
  },
  {
   "cell_type": "code",
   "execution_count": 16,
   "id": "fd6e1025",
   "metadata": {
    "colab": {
     "base_uri": "https://localhost:8080/",
     "height": 740
    },
    "id": "fd6e1025",
    "outputId": "c219acf7-bbff-4837-ae3a-8a45bdc4cd75"
   },
   "outputs": [
    {
     "data": {
      "image/png": "[encoded data removed]",
      "text/plain": [
       "<Figure size 1500x1000 with 1 Axes>"
      ]
     },
     "metadata": {},
     "output_type": "display_data"
    }
   ],
   "source": [
    "#Plot showing the distribution of counts\n",
    "plot = plt.figure(figsize=(15, 10))\n",
    "a = sns.barplot(x=ratings_df.index,y='userId',data=ratings_df,palette='crest')\n",
    "a.set_title('The Distribution of Ratings',fontsize=20)\n",
    "a.set_ylabel('Count in Millions',fontsize=15)\n",
    "a.set_xlabel('Ratings',fontsize=15)\n",
    "\n",
    "#Obtaining percentages on top of bars\n",
    "n_obs = [i.get_height() for i in a.patches]\n",
    "total = sum(n_obs)\n",
    "\n",
    "for i in a.patches:\n",
    "    # get_x pulls left or right; get_height pushes up or down\n",
    "    a.text(i.get_x()+i.get_width() / 2, i.get_height()+0.5, \\\n",
    "            str(round((i.get_height()/total)*100, 1))+'%', fontsize=15,\n",
    "                color='black',ha='center')\n",
    "\n",
    "plt.show()\n"
   ]
  },
  {
   "cell_type": "markdown",
   "id": "bf2e6f98",
   "metadata": {
    "id": "bf2e6f98"
   },
   "source": [
    "From the above cells we can conclude that:\n",
    "- There are no outliers especially on the train rating column.\n",
    "- There are no null values in the two data sets.\n",
    "- All the columns are numerical type.\n",
    "- There are `162541` unique user IDs in the train data.\n",
    "- There are `162350` unique user IDs in the test data.\n",
    "- Higher ratings were given on average with `4` given the most times with a percentage of `26.5%`."
   ]
  },
  {
   "cell_type": "code",
   "execution_count": 18,
   "id": "bc126017",
   "metadata": {
    "_kg_hide-input": true,
    "_kg_hide-output": true,
    "id": "bc126017"
   },
   "outputs": [],
   "source": [
    "del ratings_df"
   ]
  },
  {
   "cell_type": "markdown",
   "id": "3fa93ec6",
   "metadata": {
    "id": "3fa93ec6"
   },
   "source": [
    "<a id=\"four\"></a>\n",
    "## 4. Data Engineering\n",
    "<a class=\"anchor\" id=\"1.1\"></a>\n",
    "<a href=#cont>Back to Table of Contents</a>\n",
    "\n",
    "---\n",
    "    \n",
    "| ⚡ Description: Data engineering ⚡ |\n",
    "| :--------------------------- |\n",
    "\n",
    "\n",
    "---"
   ]
  },
  {
   "cell_type": "code",
   "execution_count": 20,
   "id": "0f114b4d",
   "metadata": {
    "colab": {
     "base_uri": "https://localhost:8080/"
    },
    "id": "0f114b4d",
    "outputId": "a469d633-ff99-4dd3-e408-68a971a74cf2"
   },
   "outputs": [
    {
     "data": {
      "text/plain": [
       "162350"
      ]
     },
     "execution_count": 20,
     "metadata": {},
     "output_type": "execute_result"
    }
   ],
   "source": [
    "test_df['userId'].nunique()"
   ]
  },
  {
   "cell_type": "markdown",
   "id": "086f87b2",
   "metadata": {
    "id": "086f87b2"
   },
   "source": [
    "Let's check if there are any userIds that are in the test data and not in the train data."
   ]
  },
  {
   "cell_type": "code",
   "execution_count": 22,
   "id": "11b67e1d",
   "metadata": {
    "colab": {
     "base_uri": "https://localhost:8080/"
    },
    "id": "11b67e1d",
    "outputId": "ff5dca27-fff6-4b4d-e299-9d2fcbf22d9d"
   },
   "outputs": [
    {
     "name": "stdout",
     "output_type": "stream",
     "text": [
      "[]\n"
     ]
    }
   ],
   "source": [
    "test_case = test_df['userId'].unique()\n",
    "train_case = train_df['userId'].unique()\n",
    "print([id for id in test_case if id not in train_case])"
   ]
  },
  {
   "cell_type": "markdown",
   "id": "3c8b0b22",
   "metadata": {
    "id": "3c8b0b22"
   },
   "source": [
    "The above list is empty meaning that all the userIds in the test data are in the train data"
   ]
  },
  {
   "cell_type": "markdown",
   "id": "1129bd54",
   "metadata": {
    "id": "1129bd54"
   },
   "source": [
    "#### Sorting of Tables\n",
    "\n",
    "We proceed to sort both tables( train and test ) by useId"
   ]
  },
  {
   "cell_type": "code",
   "execution_count": 25,
   "id": "cc8f7b08",
   "metadata": {
    "colab": {
     "base_uri": "https://localhost:8080/",
     "height": 206
    },
    "id": "cc8f7b08",
    "outputId": "9ffa511e-2bd8-4904-8122-801d7f66f5ec"
   },
   "outputs": [
    {
     "data": {
      "text/html": [
       "<div>\n",
       "<style scoped>\n",
       "    .dataframe tbody tr th:only-of-type {\n",
       "        vertical-align: middle;\n",
       "    }\n",
       "\n",
       "    .dataframe tbody tr th {\n",
       "        vertical-align: top;\n",
       "    }\n",
       "\n",
       "    .dataframe thead th {\n",
       "        text-align: right;\n",
       "    }\n",
       "</style>\n",
       "<table border=\"1\" class=\"dataframe\">\n",
       "  <thead>\n",
       "    <tr style=\"text-align: right;\">\n",
       "      <th></th>\n",
       "      <th>userId</th>\n",
       "      <th>movieId</th>\n",
       "      <th>rating</th>\n",
       "      <th>timestamp</th>\n",
       "    </tr>\n",
       "  </thead>\n",
       "  <tbody>\n",
       "    <tr>\n",
       "      <th>6308822</th>\n",
       "      <td>1</td>\n",
       "      <td>296</td>\n",
       "      <td>5.0</td>\n",
       "      <td>1147880044</td>\n",
       "    </tr>\n",
       "    <tr>\n",
       "      <th>3137042</th>\n",
       "      <td>1</td>\n",
       "      <td>27721</td>\n",
       "      <td>3.0</td>\n",
       "      <td>1147869115</td>\n",
       "    </tr>\n",
       "    <tr>\n",
       "      <th>2533005</th>\n",
       "      <td>1</td>\n",
       "      <td>665</td>\n",
       "      <td>5.0</td>\n",
       "      <td>1147878820</td>\n",
       "    </tr>\n",
       "    <tr>\n",
       "      <th>2524478</th>\n",
       "      <td>1</td>\n",
       "      <td>4308</td>\n",
       "      <td>3.0</td>\n",
       "      <td>1147868534</td>\n",
       "    </tr>\n",
       "    <tr>\n",
       "      <th>1946297</th>\n",
       "      <td>1</td>\n",
       "      <td>1250</td>\n",
       "      <td>4.0</td>\n",
       "      <td>1147868414</td>\n",
       "    </tr>\n",
       "  </tbody>\n",
       "</table>\n",
       "</div>"
      ],
      "text/plain": [
       "         userId  movieId  rating   timestamp\n",
       "6308822       1      296     5.0  1147880044\n",
       "3137042       1    27721     3.0  1147869115\n",
       "2533005       1      665     5.0  1147878820\n",
       "2524478       1     4308     3.0  1147868534\n",
       "1946297       1     1250     4.0  1147868414"
      ]
     },
     "execution_count": 25,
     "metadata": {},
     "output_type": "execute_result"
    }
   ],
   "source": [
    "# Sort train dataset by userId\n",
    "train_df.sort_values(by=['userId'], inplace= True)\n",
    "train_df.head()"
   ]
  },
  {
   "cell_type": "code",
   "execution_count": 26,
   "id": "dJzgxckthQ6N",
   "metadata": {
    "colab": {
     "base_uri": "https://localhost:8080/"
    },
    "id": "dJzgxckthQ6N",
    "outputId": "e9576aac-06cc-4012-9952-5d1b8a7461af"
   },
   "outputs": [
    {
     "data": {
      "text/plain": [
       "(10000038, 4)"
      ]
     },
     "execution_count": 26,
     "metadata": {},
     "output_type": "execute_result"
    }
   ],
   "source": [
    "train_df.shape"
   ]
  },
  {
   "cell_type": "code",
   "execution_count": 27,
   "id": "b02c621d",
   "metadata": {
    "colab": {
     "base_uri": "https://localhost:8080/",
     "height": 206
    },
    "id": "b02c621d",
    "outputId": "94332f69-e5fc-4cdd-a146-cdc11fada115"
   },
   "outputs": [
    {
     "data": {
      "text/html": [
       "<div>\n",
       "<style scoped>\n",
       "    .dataframe tbody tr th:only-of-type {\n",
       "        vertical-align: middle;\n",
       "    }\n",
       "\n",
       "    .dataframe tbody tr th {\n",
       "        vertical-align: top;\n",
       "    }\n",
       "\n",
       "    .dataframe thead th {\n",
       "        text-align: right;\n",
       "    }\n",
       "</style>\n",
       "<table border=\"1\" class=\"dataframe\">\n",
       "  <thead>\n",
       "    <tr style=\"text-align: right;\">\n",
       "      <th></th>\n",
       "      <th>userId</th>\n",
       "      <th>movieId</th>\n",
       "    </tr>\n",
       "  </thead>\n",
       "  <tbody>\n",
       "    <tr>\n",
       "      <th>0</th>\n",
       "      <td>1</td>\n",
       "      <td>2011</td>\n",
       "    </tr>\n",
       "    <tr>\n",
       "      <th>1</th>\n",
       "      <td>1</td>\n",
       "      <td>4144</td>\n",
       "    </tr>\n",
       "    <tr>\n",
       "      <th>2</th>\n",
       "      <td>1</td>\n",
       "      <td>5767</td>\n",
       "    </tr>\n",
       "    <tr>\n",
       "      <th>3</th>\n",
       "      <td>1</td>\n",
       "      <td>6711</td>\n",
       "    </tr>\n",
       "    <tr>\n",
       "      <th>4</th>\n",
       "      <td>1</td>\n",
       "      <td>7318</td>\n",
       "    </tr>\n",
       "  </tbody>\n",
       "</table>\n",
       "</div>"
      ],
      "text/plain": [
       "   userId  movieId\n",
       "0       1     2011\n",
       "1       1     4144\n",
       "2       1     5767\n",
       "3       1     6711\n",
       "4       1     7318"
      ]
     },
     "execution_count": 27,
     "metadata": {},
     "output_type": "execute_result"
    }
   ],
   "source": [
    "# Sort test dataset by userId\n",
    "test_df.sort_values(by=['userId'], inplace= True)\n",
    "test_df.head()"
   ]
  },
  {
   "cell_type": "code",
   "execution_count": 28,
   "id": "533f5885-ebc9-457c-92c6-cd304afdb4a2",
   "metadata": {},
   "outputs": [
    {
     "data": {
      "text/html": [
       "<div>\n",
       "<style scoped>\n",
       "    .dataframe tbody tr th:only-of-type {\n",
       "        vertical-align: middle;\n",
       "    }\n",
       "\n",
       "    .dataframe tbody tr th {\n",
       "        vertical-align: top;\n",
       "    }\n",
       "\n",
       "    .dataframe thead th {\n",
       "        text-align: right;\n",
       "    }\n",
       "</style>\n",
       "<table border=\"1\" class=\"dataframe\">\n",
       "  <thead>\n",
       "    <tr style=\"text-align: right;\">\n",
       "      <th></th>\n",
       "      <th>movieId</th>\n",
       "      <th>title</th>\n",
       "      <th>genres</th>\n",
       "    </tr>\n",
       "  </thead>\n",
       "  <tbody>\n",
       "    <tr>\n",
       "      <th>0</th>\n",
       "      <td>1</td>\n",
       "      <td>Toy Story (1995)</td>\n",
       "      <td>Adventure|Animation|Children|Comedy|Fantasy</td>\n",
       "    </tr>\n",
       "    <tr>\n",
       "      <th>1</th>\n",
       "      <td>2</td>\n",
       "      <td>Jumanji (1995)</td>\n",
       "      <td>Adventure|Children|Fantasy</td>\n",
       "    </tr>\n",
       "    <tr>\n",
       "      <th>2</th>\n",
       "      <td>3</td>\n",
       "      <td>Grumpier Old Men (1995)</td>\n",
       "      <td>Comedy|Romance</td>\n",
       "    </tr>\n",
       "    <tr>\n",
       "      <th>3</th>\n",
       "      <td>4</td>\n",
       "      <td>Waiting to Exhale (1995)</td>\n",
       "      <td>Comedy|Drama|Romance</td>\n",
       "    </tr>\n",
       "    <tr>\n",
       "      <th>4</th>\n",
       "      <td>5</td>\n",
       "      <td>Father of the Bride Part II (1995)</td>\n",
       "      <td>Comedy</td>\n",
       "    </tr>\n",
       "  </tbody>\n",
       "</table>\n",
       "</div>"
      ],
      "text/plain": [
       "   movieId                               title  \\\n",
       "0        1                    Toy Story (1995)   \n",
       "1        2                      Jumanji (1995)   \n",
       "2        3             Grumpier Old Men (1995)   \n",
       "3        4            Waiting to Exhale (1995)   \n",
       "4        5  Father of the Bride Part II (1995)   \n",
       "\n",
       "                                        genres  \n",
       "0  Adventure|Animation|Children|Comedy|Fantasy  \n",
       "1                   Adventure|Children|Fantasy  \n",
       "2                               Comedy|Romance  \n",
       "3                         Comedy|Drama|Romance  \n",
       "4                                       Comedy  "
      ]
     },
     "execution_count": 28,
     "metadata": {},
     "output_type": "execute_result"
    }
   ],
   "source": [
    "# sort the movie dataset buy movieId\n",
    "movies_df.sort_values(by=['movieId'], inplace=True)\n",
    "movies_df.head()"
   ]
  },
  {
   "cell_type": "code",
   "execution_count": 29,
   "id": "d8_EpPVAhVGX",
   "metadata": {
    "colab": {
     "base_uri": "https://localhost:8080/"
    },
    "id": "d8_EpPVAhVGX",
    "outputId": "20bd3f64-8c74-435b-c216-76c26c477de7"
   },
   "outputs": [
    {
     "data": {
      "text/plain": [
       "(5000019, 2)"
      ]
     },
     "execution_count": 29,
     "metadata": {},
     "output_type": "execute_result"
    }
   ],
   "source": [
    "test_df.shape"
   ]
  },
  {
   "cell_type": "code",
   "execution_count": 30,
   "id": "961146e6-9f27-4bf5-9c16-087f7884bdde",
   "metadata": {},
   "outputs": [
    {
     "data": {
      "text/html": [
       "<div>\n",
       "<style scoped>\n",
       "    .dataframe tbody tr th:only-of-type {\n",
       "        vertical-align: middle;\n",
       "    }\n",
       "\n",
       "    .dataframe tbody tr th {\n",
       "        vertical-align: top;\n",
       "    }\n",
       "\n",
       "    .dataframe thead th {\n",
       "        text-align: right;\n",
       "    }\n",
       "</style>\n",
       "<table border=\"1\" class=\"dataframe\">\n",
       "  <thead>\n",
       "    <tr style=\"text-align: right;\">\n",
       "      <th></th>\n",
       "      <th>userId</th>\n",
       "      <th>movieId</th>\n",
       "      <th>rating</th>\n",
       "      <th>timestamp</th>\n",
       "    </tr>\n",
       "  </thead>\n",
       "  <tbody>\n",
       "    <tr>\n",
       "      <th>6308822</th>\n",
       "      <td>1</td>\n",
       "      <td>296</td>\n",
       "      <td>5.0</td>\n",
       "      <td>1147880044</td>\n",
       "    </tr>\n",
       "    <tr>\n",
       "      <th>3137042</th>\n",
       "      <td>1</td>\n",
       "      <td>27721</td>\n",
       "      <td>3.0</td>\n",
       "      <td>1147869115</td>\n",
       "    </tr>\n",
       "    <tr>\n",
       "      <th>2533005</th>\n",
       "      <td>1</td>\n",
       "      <td>665</td>\n",
       "      <td>5.0</td>\n",
       "      <td>1147878820</td>\n",
       "    </tr>\n",
       "    <tr>\n",
       "      <th>2524478</th>\n",
       "      <td>1</td>\n",
       "      <td>4308</td>\n",
       "      <td>3.0</td>\n",
       "      <td>1147868534</td>\n",
       "    </tr>\n",
       "    <tr>\n",
       "      <th>1946297</th>\n",
       "      <td>1</td>\n",
       "      <td>1250</td>\n",
       "      <td>4.0</td>\n",
       "      <td>1147868414</td>\n",
       "    </tr>\n",
       "  </tbody>\n",
       "</table>\n",
       "</div>"
      ],
      "text/plain": [
       "         userId  movieId  rating   timestamp\n",
       "6308822       1      296     5.0  1147880044\n",
       "3137042       1    27721     3.0  1147869115\n",
       "2533005       1      665     5.0  1147878820\n",
       "2524478       1     4308     3.0  1147868534\n",
       "1946297       1     1250     4.0  1147868414"
      ]
     },
     "execution_count": 30,
     "metadata": {},
     "output_type": "execute_result"
    }
   ],
   "source": [
    "train_df.head()"
   ]
  },
  {
   "cell_type": "markdown",
   "id": "26ab1312-aced-43dc-93be-00de422abbbd",
   "metadata": {},
   "source": [
    "Merge the dataset with ratings to their specific movie titles in movie dataset"
   ]
  },
  {
   "cell_type": "code",
   "execution_count": 32,
   "id": "a02004de-da1d-4912-9e8b-18ecc133731c",
   "metadata": {},
   "outputs": [
    {
     "data": {
      "text/html": [
       "<div>\n",
       "<style scoped>\n",
       "    .dataframe tbody tr th:only-of-type {\n",
       "        vertical-align: middle;\n",
       "    }\n",
       "\n",
       "    .dataframe tbody tr th {\n",
       "        vertical-align: top;\n",
       "    }\n",
       "\n",
       "    .dataframe thead th {\n",
       "        text-align: right;\n",
       "    }\n",
       "</style>\n",
       "<table border=\"1\" class=\"dataframe\">\n",
       "  <thead>\n",
       "    <tr style=\"text-align: right;\">\n",
       "      <th></th>\n",
       "      <th>userId</th>\n",
       "      <th>movieId</th>\n",
       "      <th>rating</th>\n",
       "      <th>timestamp</th>\n",
       "      <th>title</th>\n",
       "      <th>genres</th>\n",
       "    </tr>\n",
       "  </thead>\n",
       "  <tbody>\n",
       "    <tr>\n",
       "      <th>0</th>\n",
       "      <td>1</td>\n",
       "      <td>296</td>\n",
       "      <td>5.0</td>\n",
       "      <td>1147880044</td>\n",
       "      <td>Pulp Fiction (1994)</td>\n",
       "      <td>Comedy|Crime|Drama|Thriller</td>\n",
       "    </tr>\n",
       "    <tr>\n",
       "      <th>1</th>\n",
       "      <td>4</td>\n",
       "      <td>296</td>\n",
       "      <td>4.0</td>\n",
       "      <td>1573938898</td>\n",
       "      <td>Pulp Fiction (1994)</td>\n",
       "      <td>Comedy|Crime|Drama|Thriller</td>\n",
       "    </tr>\n",
       "    <tr>\n",
       "      <th>2</th>\n",
       "      <td>5</td>\n",
       "      <td>296</td>\n",
       "      <td>4.0</td>\n",
       "      <td>830786155</td>\n",
       "      <td>Pulp Fiction (1994)</td>\n",
       "      <td>Comedy|Crime|Drama|Thriller</td>\n",
       "    </tr>\n",
       "    <tr>\n",
       "      <th>3</th>\n",
       "      <td>8</td>\n",
       "      <td>296</td>\n",
       "      <td>5.0</td>\n",
       "      <td>890489713</td>\n",
       "      <td>Pulp Fiction (1994)</td>\n",
       "      <td>Comedy|Crime|Drama|Thriller</td>\n",
       "    </tr>\n",
       "    <tr>\n",
       "      <th>4</th>\n",
       "      <td>12</td>\n",
       "      <td>296</td>\n",
       "      <td>5.0</td>\n",
       "      <td>1119354604</td>\n",
       "      <td>Pulp Fiction (1994)</td>\n",
       "      <td>Comedy|Crime|Drama|Thriller</td>\n",
       "    </tr>\n",
       "  </tbody>\n",
       "</table>\n",
       "</div>"
      ],
      "text/plain": [
       "   userId  movieId  rating   timestamp                title  \\\n",
       "0       1      296     5.0  1147880044  Pulp Fiction (1994)   \n",
       "1       4      296     4.0  1573938898  Pulp Fiction (1994)   \n",
       "2       5      296     4.0   830786155  Pulp Fiction (1994)   \n",
       "3       8      296     5.0   890489713  Pulp Fiction (1994)   \n",
       "4      12      296     5.0  1119354604  Pulp Fiction (1994)   \n",
       "\n",
       "                        genres  \n",
       "0  Comedy|Crime|Drama|Thriller  \n",
       "1  Comedy|Crime|Drama|Thriller  \n",
       "2  Comedy|Crime|Drama|Thriller  \n",
       "3  Comedy|Crime|Drama|Thriller  \n",
       "4  Comedy|Crime|Drama|Thriller  "
      ]
     },
     "execution_count": 32,
     "metadata": {},
     "output_type": "execute_result"
    }
   ],
   "source": [
    "# Merge based on the columns userId, and movieId\n",
    "merged_df = pd.merge(train_df, movies_df, left_on=['movieId', 'movieId'], right_on=['movieId', 'movieId'], how='inner')\n",
    "merged_df.head()"
   ]
  },
  {
   "cell_type": "code",
   "execution_count": 39,
   "id": "4f89b963-4628-45e6-98d8-a4e00ad98482",
   "metadata": {},
   "outputs": [
    {
     "name": "stdout",
     "output_type": "stream",
     "text": [
      "<class 'pandas.core.frame.DataFrame'>\n",
      "RangeIndex: 10000038 entries, 0 to 10000037\n",
      "Data columns (total 6 columns):\n",
      " #   Column     Dtype  \n",
      "---  ------     -----  \n",
      " 0   userId     int64  \n",
      " 1   movieId    int64  \n",
      " 2   rating     float64\n",
      " 3   timestamp  int64  \n",
      " 4   title      object \n",
      " 5   genres     object \n",
      "dtypes: float64(1), int64(3), object(2)\n",
      "memory usage: 457.8+ MB\n"
     ]
    }
   ],
   "source": [
    "merged_df.info()"
   ]
  },
  {
   "cell_type": "code",
   "execution_count": 45,
   "id": "70011870-9ae6-4365-85ec-4342287d78e9",
   "metadata": {},
   "outputs": [
    {
     "data": {
      "text/html": [
       "<div>\n",
       "<style scoped>\n",
       "    .dataframe tbody tr th:only-of-type {\n",
       "        vertical-align: middle;\n",
       "    }\n",
       "\n",
       "    .dataframe tbody tr th {\n",
       "        vertical-align: top;\n",
       "    }\n",
       "\n",
       "    .dataframe thead th {\n",
       "        text-align: right;\n",
       "    }\n",
       "</style>\n",
       "<table border=\"1\" class=\"dataframe\">\n",
       "  <thead>\n",
       "    <tr style=\"text-align: right;\">\n",
       "      <th></th>\n",
       "      <th>userId</th>\n",
       "      <th>movieId</th>\n",
       "      <th>rating</th>\n",
       "      <th>title</th>\n",
       "    </tr>\n",
       "  </thead>\n",
       "  <tbody>\n",
       "    <tr>\n",
       "      <th>0</th>\n",
       "      <td>1</td>\n",
       "      <td>296</td>\n",
       "      <td>5.0</td>\n",
       "      <td>Pulp Fiction (1994)</td>\n",
       "    </tr>\n",
       "    <tr>\n",
       "      <th>1</th>\n",
       "      <td>4</td>\n",
       "      <td>296</td>\n",
       "      <td>4.0</td>\n",
       "      <td>Pulp Fiction (1994)</td>\n",
       "    </tr>\n",
       "    <tr>\n",
       "      <th>2</th>\n",
       "      <td>5</td>\n",
       "      <td>296</td>\n",
       "      <td>4.0</td>\n",
       "      <td>Pulp Fiction (1994)</td>\n",
       "    </tr>\n",
       "    <tr>\n",
       "      <th>3</th>\n",
       "      <td>8</td>\n",
       "      <td>296</td>\n",
       "      <td>5.0</td>\n",
       "      <td>Pulp Fiction (1994)</td>\n",
       "    </tr>\n",
       "    <tr>\n",
       "      <th>4</th>\n",
       "      <td>12</td>\n",
       "      <td>296</td>\n",
       "      <td>5.0</td>\n",
       "      <td>Pulp Fiction (1994)</td>\n",
       "    </tr>\n",
       "  </tbody>\n",
       "</table>\n",
       "</div>"
      ],
      "text/plain": [
       "   userId  movieId  rating                title\n",
       "0       1      296     5.0  Pulp Fiction (1994)\n",
       "1       4      296     4.0  Pulp Fiction (1994)\n",
       "2       5      296     4.0  Pulp Fiction (1994)\n",
       "3       8      296     5.0  Pulp Fiction (1994)\n",
       "4      12      296     5.0  Pulp Fiction (1994)"
      ]
     },
     "execution_count": 45,
     "metadata": {},
     "output_type": "execute_result"
    }
   ],
   "source": [
    "# drop unwanted columns in modelling and producing recommendations\n",
    "merged_df.drop(columns=['timestamp', 'genres'], axis=1, inplace=True)\n",
    "merged_df.head()"
   ]
  },
  {
   "cell_type": "code",
   "execution_count": 46,
   "id": "2c8de67a-ae47-4ad6-9ffa-70b816f51dd8",
   "metadata": {},
   "outputs": [
    {
     "data": {
      "text/html": [
       "<div>\n",
       "<style scoped>\n",
       "    .dataframe tbody tr th:only-of-type {\n",
       "        vertical-align: middle;\n",
       "    }\n",
       "\n",
       "    .dataframe tbody tr th {\n",
       "        vertical-align: top;\n",
       "    }\n",
       "\n",
       "    .dataframe thead th {\n",
       "        text-align: right;\n",
       "    }\n",
       "</style>\n",
       "<table border=\"1\" class=\"dataframe\">\n",
       "  <thead>\n",
       "    <tr style=\"text-align: right;\">\n",
       "      <th></th>\n",
       "      <th>userId</th>\n",
       "      <th>movieId</th>\n",
       "      <th>rating</th>\n",
       "      <th>title</th>\n",
       "    </tr>\n",
       "  </thead>\n",
       "  <tbody>\n",
       "    <tr>\n",
       "      <th>0</th>\n",
       "      <td>1</td>\n",
       "      <td>296</td>\n",
       "      <td>5.0</td>\n",
       "      <td>Pulp Fiction (1994)</td>\n",
       "    </tr>\n",
       "    <tr>\n",
       "      <th>64990</th>\n",
       "      <td>1</td>\n",
       "      <td>899</td>\n",
       "      <td>3.5</td>\n",
       "      <td>Singin' in the Rain (1952)</td>\n",
       "    </tr>\n",
       "    <tr>\n",
       "      <th>78534</th>\n",
       "      <td>1</td>\n",
       "      <td>6370</td>\n",
       "      <td>4.5</td>\n",
       "      <td>Spanish Apartment, The (L'auberge espagnole) (...</td>\n",
       "    </tr>\n",
       "    <tr>\n",
       "      <th>97545</th>\n",
       "      <td>1</td>\n",
       "      <td>2632</td>\n",
       "      <td>5.0</td>\n",
       "      <td>Saragossa Manuscript, The (Rekopis znaleziony ...</td>\n",
       "    </tr>\n",
       "    <tr>\n",
       "      <th>59467</th>\n",
       "      <td>1</td>\n",
       "      <td>1237</td>\n",
       "      <td>5.0</td>\n",
       "      <td>Seventh Seal, The (Sjunde inseglet, Det) (1957)</td>\n",
       "    </tr>\n",
       "  </tbody>\n",
       "</table>\n",
       "</div>"
      ],
      "text/plain": [
       "       userId  movieId  rating  \\\n",
       "0           1      296     5.0   \n",
       "64990       1      899     3.5   \n",
       "78534       1     6370     4.5   \n",
       "97545       1     2632     5.0   \n",
       "59467       1     1237     5.0   \n",
       "\n",
       "                                                   title  \n",
       "0                                    Pulp Fiction (1994)  \n",
       "64990                         Singin' in the Rain (1952)  \n",
       "78534  Spanish Apartment, The (L'auberge espagnole) (...  \n",
       "97545  Saragossa Manuscript, The (Rekopis znaleziony ...  \n",
       "59467    Seventh Seal, The (Sjunde inseglet, Det) (1957)  "
      ]
     },
     "execution_count": 46,
     "metadata": {},
     "output_type": "execute_result"
    }
   ],
   "source": [
    "# Sort the merged_df on the userId column\n",
    "merged_df.sort_values(by='userId', inplace=True)\n",
    "merged_df.head()"
   ]
  },
  {
   "cell_type": "code",
   "execution_count": 47,
   "id": "67dff0d6-7813-4d5e-ba13-4226ed5ee8dc",
   "metadata": {},
   "outputs": [
    {
     "data": {
      "text/plain": [
       "userId     0\n",
       "movieId    0\n",
       "rating     0\n",
       "title      0\n",
       "dtype: int64"
      ]
     },
     "execution_count": 47,
     "metadata": {},
     "output_type": "execute_result"
    }
   ],
   "source": [
    "merged_df.isnull().sum()"
   ]
  },
  {
   "cell_type": "code",
   "execution_count": null,
   "id": "00ad28f5-2a12-4a7c-b3e4-c7b8562cf2b1",
   "metadata": {},
   "outputs": [],
   "source": []
  },
  {
   "cell_type": "markdown",
   "id": "12175287",
   "metadata": {
    "id": "12175287"
   },
   "source": [
    "<a id=\"five\"></a>\n",
    "## 5. Modelling\n",
    "<a class=\"anchor\" id=\"1.1\"></a>\n",
    "<a href=#cont>Back to Table of Contents</a>\n",
    "\n",
    "---\n",
    "    \n",
    "| ⚡ Description: Modelling ⚡ |\n",
    "| :--------------------------- |\n",
    "\n",
    "\n",
    "---"
   ]
  },
  {
   "cell_type": "markdown",
   "id": "62791fa2",
   "metadata": {
    "id": "62791fa2"
   },
   "source": [
    "### 5.1 Collaborative filtering\n",
    "\n",
    "These are recommender systems that are base solely on the past interations recorded between users and items, in our case userIds and movies. These interactions are stored in **user-item interaction matrix**.\n",
    "\n",
    "The main Idea that rules collaborative method is that the past user-item interations are sufficient to detect similar users and/or similar items that make predictions possible.\n",
    "\n",
    "Consdering the above, in our EDA above, we confirmed that all userIds in the test dataset are present in the train dataset, we also confirmed that all movieIds in the test dataset are also present in the train dataset. Hence we can proceed to make prediction(movie ratings) using the **Collaborative filtering method**"
   ]
  },
  {
   "cell_type": "markdown",
   "id": "e4f28775",
   "metadata": {
    "id": "e4f28775"
   },
   "source": [
    "#### Confirm shape and format of train dataset again"
   ]
  },
  {
   "cell_type": "code",
   "execution_count": 52,
   "id": "7beca5f3",
   "metadata": {
    "colab": {
     "base_uri": "https://localhost:8080/",
     "height": 224
    },
    "id": "7beca5f3",
    "outputId": "21b4c2b8-b0fe-4ca0-fc3f-bb9d5ff81f80"
   },
   "outputs": [
    {
     "name": "stdout",
     "output_type": "stream",
     "text": [
      "The shape of train data is:  (10000038, 4)\n"
     ]
    },
    {
     "data": {
      "text/html": [
       "<div>\n",
       "<style scoped>\n",
       "    .dataframe tbody tr th:only-of-type {\n",
       "        vertical-align: middle;\n",
       "    }\n",
       "\n",
       "    .dataframe tbody tr th {\n",
       "        vertical-align: top;\n",
       "    }\n",
       "\n",
       "    .dataframe thead th {\n",
       "        text-align: right;\n",
       "    }\n",
       "</style>\n",
       "<table border=\"1\" class=\"dataframe\">\n",
       "  <thead>\n",
       "    <tr style=\"text-align: right;\">\n",
       "      <th></th>\n",
       "      <th>userId</th>\n",
       "      <th>movieId</th>\n",
       "      <th>rating</th>\n",
       "      <th>timestamp</th>\n",
       "    </tr>\n",
       "  </thead>\n",
       "  <tbody>\n",
       "    <tr>\n",
       "      <th>6308822</th>\n",
       "      <td>1</td>\n",
       "      <td>296</td>\n",
       "      <td>5.0</td>\n",
       "      <td>1147880044</td>\n",
       "    </tr>\n",
       "    <tr>\n",
       "      <th>3137042</th>\n",
       "      <td>1</td>\n",
       "      <td>27721</td>\n",
       "      <td>3.0</td>\n",
       "      <td>1147869115</td>\n",
       "    </tr>\n",
       "    <tr>\n",
       "      <th>2533005</th>\n",
       "      <td>1</td>\n",
       "      <td>665</td>\n",
       "      <td>5.0</td>\n",
       "      <td>1147878820</td>\n",
       "    </tr>\n",
       "    <tr>\n",
       "      <th>2524478</th>\n",
       "      <td>1</td>\n",
       "      <td>4308</td>\n",
       "      <td>3.0</td>\n",
       "      <td>1147868534</td>\n",
       "    </tr>\n",
       "    <tr>\n",
       "      <th>1946297</th>\n",
       "      <td>1</td>\n",
       "      <td>1250</td>\n",
       "      <td>4.0</td>\n",
       "      <td>1147868414</td>\n",
       "    </tr>\n",
       "  </tbody>\n",
       "</table>\n",
       "</div>"
      ],
      "text/plain": [
       "         userId  movieId  rating   timestamp\n",
       "6308822       1      296     5.0  1147880044\n",
       "3137042       1    27721     3.0  1147869115\n",
       "2533005       1      665     5.0  1147878820\n",
       "2524478       1     4308     3.0  1147868534\n",
       "1946297       1     1250     4.0  1147868414"
      ]
     },
     "execution_count": 52,
     "metadata": {},
     "output_type": "execute_result"
    }
   ],
   "source": [
    "# confirm train dataset\n",
    "print('The shape of train data is: ', train_df.shape)\n",
    "train_df.head()"
   ]
  },
  {
   "cell_type": "markdown",
   "id": "1bcfb63e",
   "metadata": {
    "id": "1bcfb63e"
   },
   "source": [
    "#### Confirm shape and format of test dataset again"
   ]
  },
  {
   "cell_type": "code",
   "execution_count": 54,
   "id": "5b2ed956",
   "metadata": {
    "colab": {
     "base_uri": "https://localhost:8080/",
     "height": 224
    },
    "id": "5b2ed956",
    "outputId": "8195da7c-750e-4f10-ac4d-9e642b093a59"
   },
   "outputs": [
    {
     "name": "stdout",
     "output_type": "stream",
     "text": [
      "The shape of test data is:  (5000019, 2)\n"
     ]
    },
    {
     "data": {
      "text/html": [
       "<div>\n",
       "<style scoped>\n",
       "    .dataframe tbody tr th:only-of-type {\n",
       "        vertical-align: middle;\n",
       "    }\n",
       "\n",
       "    .dataframe tbody tr th {\n",
       "        vertical-align: top;\n",
       "    }\n",
       "\n",
       "    .dataframe thead th {\n",
       "        text-align: right;\n",
       "    }\n",
       "</style>\n",
       "<table border=\"1\" class=\"dataframe\">\n",
       "  <thead>\n",
       "    <tr style=\"text-align: right;\">\n",
       "      <th></th>\n",
       "      <th>userId</th>\n",
       "      <th>movieId</th>\n",
       "    </tr>\n",
       "  </thead>\n",
       "  <tbody>\n",
       "    <tr>\n",
       "      <th>0</th>\n",
       "      <td>1</td>\n",
       "      <td>2011</td>\n",
       "    </tr>\n",
       "    <tr>\n",
       "      <th>1</th>\n",
       "      <td>1</td>\n",
       "      <td>4144</td>\n",
       "    </tr>\n",
       "    <tr>\n",
       "      <th>2</th>\n",
       "      <td>1</td>\n",
       "      <td>5767</td>\n",
       "    </tr>\n",
       "    <tr>\n",
       "      <th>3</th>\n",
       "      <td>1</td>\n",
       "      <td>6711</td>\n",
       "    </tr>\n",
       "    <tr>\n",
       "      <th>4</th>\n",
       "      <td>1</td>\n",
       "      <td>7318</td>\n",
       "    </tr>\n",
       "  </tbody>\n",
       "</table>\n",
       "</div>"
      ],
      "text/plain": [
       "   userId  movieId\n",
       "0       1     2011\n",
       "1       1     4144\n",
       "2       1     5767\n",
       "3       1     6711\n",
       "4       1     7318"
      ]
     },
     "execution_count": 54,
     "metadata": {},
     "output_type": "execute_result"
    }
   ],
   "source": [
    "# Confirm test dataset\n",
    "print('The shape of test data is: ', test_df.shape)\n",
    "test_df.head()"
   ]
  },
  {
   "cell_type": "markdown",
   "id": "490d1801",
   "metadata": {
    "id": "490d1801"
   },
   "source": [
    "#### Drop unwanted columns\n",
    "\n",
    "We proceeded to drop the key_words column in the train dataset because the approach to collaborative filtering we have\n",
    "chosen **user-item**, will only require we work with the below listed columns from the train dataset:\n",
    "- userId\n",
    "- movieId\n",
    "- rating\n",
    "\n",
    "Also, for this approach, we have chosen to use a python package called **surprise**.\n",
    "Surprise is an easy-to-use Python scikit for recommender systems."
   ]
  },
  {
   "cell_type": "code",
   "execution_count": 57,
   "id": "d9fe0a0e",
   "metadata": {
    "id": "d9fe0a0e"
   },
   "outputs": [],
   "source": [
    "# Drop key_words column for the train dataset\n",
    "ratings = train_df.drop(columns='timestamp')\n",
    "\n",
    "# Instanciate a Reader object from surprise package\n",
    "reader = Reader()\n",
    "\n",
    "# Instanciate the dataset object from surprice package with the ratings table and reader object\n",
    "data = Dataset.load_from_df(ratings, reader)"
   ]
  },
  {
   "cell_type": "markdown",
   "id": "956cf5fc",
   "metadata": {
    "id": "956cf5fc"
   },
   "source": [
    "#### Instanciate and train an SVD model from the surprise package\n",
    "\n",
    "The surprise package has in it different models for solving a recommender system task, one of the is the SVD model, which we have chosen for this project."
   ]
  },
  {
   "cell_type": "markdown",
   "id": "e8993bd9",
   "metadata": {
    "id": "e8993bd9"
   },
   "source": [
    "#### Hyperparameter Tuning with GridSearchCV\n",
    "\n",
    "Hyper-parameter tuning is a process of determining a set of optimal hyperparameters values for a learning algorithm.\n",
    "A hyperparameter is a model argument whose value is set before the learning process begins.\n",
    "\n"
   ]
  },
  {
   "cell_type": "code",
   "execution_count": 54,
   "id": "7038fd04",
   "metadata": {
    "id": "7038fd04"
   },
   "outputs": [],
   "source": [
    "# help(SVD)"
   ]
  },
  {
   "cell_type": "code",
   "execution_count": 55,
   "id": "64d78155-dc5e-41cf-8239-9d4cd3ec973b",
   "metadata": {},
   "outputs": [],
   "source": [
    "# Define the parameter grid\n",
    "#param_grid = {\n",
    "    #'n_factors': [1000, 700],\n",
    "    #'init_std_dev': [0.005],\n",
    "    #'random_state': [25, 42],\n",
    "    #'biased': [True, False],\n",
    "    #'lr_all': [0.002, 0.005],\n",
    "    #'reg_all': [0.02, 0.05]\n",
    "#}\n",
    "\n",
    "# Initialize GridSearchCV with fewer jobs\n",
    "#grid_SVD = GridSearchCV(SVD, param_grid, measures=['rmse'], cv=2, n_jobs=2, joblib_verbose=10)\n",
    "\n",
    "# Fit the model\n",
    "#grid_SVD.fit(data)\n",
    "\n",
    "# Print the best score and parameters\n",
    "#print('Best Score is: ', grid_SVD.best_score['rmse'])\n",
    "#print('Best Parameters are: ', grid_SVD.best_params['rmse'])"
   ]
  },
  {
   "cell_type": "code",
   "execution_count": 73,
   "id": "be3d2b84",
   "metadata": {
    "colab": {
     "base_uri": "https://localhost:8080/"
    },
    "id": "be3d2b84",
    "outputId": "973ea46c-907c-434c-e082-3ee03ab4ec57"
   },
   "outputs": [
    {
     "name": "stdout",
     "output_type": "stream",
     "text": [
      "Processing epoch 0\n",
      "Processing epoch 1\n",
      "Processing epoch 2\n",
      "Processing epoch 3\n",
      "Processing epoch 4\n",
      "Processing epoch 5\n",
      "Processing epoch 6\n",
      "Processing epoch 7\n",
      "Processing epoch 8\n",
      "Processing epoch 9\n",
      "Processing epoch 10\n",
      "Processing epoch 11\n",
      "Processing epoch 12\n",
      "Processing epoch 13\n",
      "Processing epoch 14\n",
      "Processing epoch 15\n",
      "Processing epoch 16\n",
      "Processing epoch 17\n",
      "Processing epoch 18\n",
      "Processing epoch 19\n",
      "Processing epoch 20\n",
      "Processing epoch 21\n",
      "Processing epoch 22\n",
      "Processing epoch 23\n",
      "Processing epoch 24\n",
      "Processing epoch 25\n",
      "Processing epoch 26\n",
      "Processing epoch 27\n",
      "Processing epoch 28\n",
      "Processing epoch 29\n",
      "Processing epoch 30\n",
      "Processing epoch 31\n",
      "Processing epoch 32\n",
      "Processing epoch 33\n",
      "Processing epoch 34\n",
      "Processing epoch 35\n",
      "Processing epoch 36\n",
      "Processing epoch 37\n",
      "Processing epoch 38\n",
      "Processing epoch 39\n",
      "Processing epoch 40\n",
      "Processing epoch 41\n",
      "Processing epoch 42\n",
      "Processing epoch 43\n",
      "Processing epoch 44\n",
      "Processing epoch 45\n",
      "Processing epoch 46\n",
      "Processing epoch 47\n",
      "Processing epoch 48\n",
      "Processing epoch 49\n"
     ]
    },
    {
     "data": {
      "text/plain": [
       "<surprise.prediction_algorithms.matrix_factorization.SVD at 0x1eb326ae190>"
      ]
     },
     "execution_count": 73,
     "metadata": {},
     "output_type": "execute_result"
    }
   ],
   "source": [
    "# Instantiate an SVD model from the surprice package\n",
    "svd = SVD(n_epochs=50,n_factors=1500,init_std_dev=0.005,random_state=42,verbose=True)\n",
    "\n",
    "# Instanciate and build the dataset with data object from surprise package\n",
    "trainset = data.build_full_trainset()\n",
    "\n",
    "# Train the SVD model\n",
    "svd.fit(trainset)"
   ]
  },
  {
   "cell_type": "markdown",
   "id": "5656fc86",
   "metadata": {
    "id": "5656fc86"
   },
   "source": [
    "Our model takes a long time to run, approximately 137 minutes, so we'll pickle it to save on time on future runs."
   ]
  },
  {
   "cell_type": "code",
   "execution_count": 90,
   "id": "b76da3e3",
   "metadata": {
    "id": "b76da3e3"
   },
   "outputs": [],
   "source": [
    "model_save_path = \"svd_model.pkl\"\n",
    "with open(model_save_path,'wb') as file:\n",
    "    pickle.dump(svd,file)"
   ]
  },
  {
   "cell_type": "code",
   "execution_count": 72,
   "id": "027d86f5-c380-4719-bb98-b7e754030bec",
   "metadata": {},
   "outputs": [],
   "source": [
    "model_save_path_joblib = \"svd_model2.joblib\"\n",
    "with open(model_save_path_joblib,'wb') as file:\n",
    "    joblib.dump(svd,file)"
   ]
  },
  {
   "cell_type": "markdown",
   "id": "78c41bff-1afd-43c8-8512-eecfbe89ef6d",
   "metadata": {},
   "source": [
    "Run the code below to load the pickled model"
   ]
  },
  {
   "cell_type": "code",
   "execution_count": 91,
   "id": "13dee12a",
   "metadata": {
    "id": "13dee12a"
   },
   "outputs": [],
   "source": [
    "model_load_path = \"svd_model.pkl\"\n",
    "with open(model_load_path,'rb') as file:\n",
    "    unpickled_model = pickle.load(file)"
   ]
  },
  {
   "cell_type": "code",
   "execution_count": 66,
   "id": "5f7a47b5-c83f-4c22-9e44-82394337b2f3",
   "metadata": {},
   "outputs": [],
   "source": [
    "model_load_path = \"svd_model2.joblib\"\n",
    "with open(model_load_path,'rb') as file:\n",
    "    unpickled_model = joblib.load(file)"
   ]
  },
  {
   "cell_type": "markdown",
   "id": "15e176b6",
   "metadata": {
    "id": "15e176b6"
   },
   "source": [
    "#### Making Predicitons\n"
   ]
  },
  {
   "cell_type": "code",
   "execution_count": 95,
   "id": "5219476a",
   "metadata": {
    "id": "5219476a"
   },
   "outputs": [],
   "source": [
    "# Extract the userIds and corresponding movieIds into a python list\n",
    "userId = test_df['userId'].values.tolist()\n",
    "movieId = test_df['movieId'].values.tolist()\n",
    "\n",
    "# Create a range of numbers which is the size of list created above\n",
    "count = len(userId)\n",
    "rating = []\n",
    "ids = []\n",
    "\n",
    "# Make rating predictions with the corresponding userIds and movieIds, accessed through indexing\n",
    "for i in range(count):\n",
    "    result = svd.predict(userId[i], movieId[i])[3]\n",
    "\n",
    "    # Store the predicted rating\n",
    "    rating.append(result)\n",
    "\n",
    "    # Prepare, save userId and movieId for submission\n",
    "    ids.append(str(userId[i]) + '_' + str(movieId[i]))"
   ]
  },
  {
   "cell_type": "code",
   "execution_count": 97,
   "id": "356af3df",
   "metadata": {
    "colab": {
     "base_uri": "https://localhost:8080/",
     "height": 206
    },
    "id": "356af3df",
    "outputId": "1f654031-0c5c-4bf4-cc11-de8e1712ca99"
   },
   "outputs": [
    {
     "data": {
      "text/html": [
       "<div>\n",
       "<style scoped>\n",
       "    .dataframe tbody tr th:only-of-type {\n",
       "        vertical-align: middle;\n",
       "    }\n",
       "\n",
       "    .dataframe tbody tr th {\n",
       "        vertical-align: top;\n",
       "    }\n",
       "\n",
       "    .dataframe thead th {\n",
       "        text-align: right;\n",
       "    }\n",
       "</style>\n",
       "<table border=\"1\" class=\"dataframe\">\n",
       "  <thead>\n",
       "    <tr style=\"text-align: right;\">\n",
       "      <th></th>\n",
       "      <th>Id</th>\n",
       "      <th>rating</th>\n",
       "    </tr>\n",
       "  </thead>\n",
       "  <tbody>\n",
       "    <tr>\n",
       "      <th>0</th>\n",
       "      <td>1_2011</td>\n",
       "      <td>3.251449</td>\n",
       "    </tr>\n",
       "    <tr>\n",
       "      <th>1</th>\n",
       "      <td>1_4144</td>\n",
       "      <td>4.155198</td>\n",
       "    </tr>\n",
       "    <tr>\n",
       "      <th>2</th>\n",
       "      <td>1_5767</td>\n",
       "      <td>3.744358</td>\n",
       "    </tr>\n",
       "    <tr>\n",
       "      <th>3</th>\n",
       "      <td>1_6711</td>\n",
       "      <td>4.064556</td>\n",
       "    </tr>\n",
       "    <tr>\n",
       "      <th>4</th>\n",
       "      <td>1_7318</td>\n",
       "      <td>2.816415</td>\n",
       "    </tr>\n",
       "  </tbody>\n",
       "</table>\n",
       "</div>"
      ],
      "text/plain": [
       "       Id    rating\n",
       "0  1_2011  3.251449\n",
       "1  1_4144  4.155198\n",
       "2  1_5767  3.744358\n",
       "3  1_6711  4.064556\n",
       "4  1_7318  2.816415"
      ]
     },
     "execution_count": 97,
     "metadata": {},
     "output_type": "execute_result"
    }
   ],
   "source": [
    "# Convert ids and ratings to dataframe\n",
    "test_sub_df =  pd.DataFrame({\n",
    "        'Id': ids,\n",
    "        'rating': rating\n",
    "         })\n",
    "test_sub_df.head()"
   ]
  },
  {
   "cell_type": "code",
   "execution_count": 99,
   "id": "01633af3",
   "metadata": {
    "colab": {
     "base_uri": "https://localhost:8080/"
    },
    "id": "01633af3",
    "outputId": "fe4ab15a-49d0-4547-aa4f-fb1acf5bac61"
   },
   "outputs": [
    {
     "data": {
      "text/plain": [
       "(5000019, 2)"
      ]
     },
     "execution_count": 99,
     "metadata": {},
     "output_type": "execute_result"
    }
   ],
   "source": [
    "test_sub_df.shape"
   ]
  },
  {
   "cell_type": "code",
   "execution_count": 101,
   "id": "7f7471d4",
   "metadata": {
    "id": "7f7471d4"
   },
   "outputs": [],
   "source": [
    "# Convert dataframe to csv file for submission.\n",
    "test_sub_df.to_csv('Kaggle_submission2.csv', index=False)"
   ]
  },
  {
   "cell_type": "markdown",
   "id": "6b530251",
   "metadata": {
    "id": "6b530251"
   },
   "source": [
    "<a id=\"six\"></a>\n",
    "## 6. Model Performance\n",
    "<a class=\"anchor\" id=\"1.1\"></a>\n",
    "<a href=#cont>Back to Table of Contents</a>\n",
    "\n",
    "---\n",
    "    \n",
    "| ⚡ Description: Model performance ⚡ |\n",
    "| :--------------------------- |\n",
    "\n",
    "\n",
    "---"
   ]
  },
  {
   "cell_type": "markdown",
   "id": "a8ad0c0d",
   "metadata": {
    "id": "a8ad0c0d"
   },
   "source": [
    "<a id=\"seven\"></a>\n",
    "## 7. Model Explanations & Conclusion\n",
    "<a class=\"anchor\" id=\"1.1\"></a>\n",
    "<a href=#cont>Back to Table of Contents</a>\n",
    "\n",
    "---\n",
    "    \n",
    "| ⚡ Description: Model explanation ⚡ |\n",
    "| :--------------------------- |\n",
    "\n",
    "\n",
    "---"
   ]
  },
  {
   "cell_type": "markdown",
   "id": "02b201b1-fe45-4547-989f-61a931d30149",
   "metadata": {},
   "source": [
    "<a id=\"eight\"></a>\n",
    "## 8. Building a Recommandation System function\n",
    "<a class=\"anchor\" id=\"1.1\"></a>\n",
    "<a href=#cont>Back to Table of Contents</a>\n",
    "\n",
    "---\n",
    "    \n",
    "| ⚡ Description: Recommender system explanation ⚡ |\n",
    "| :--------------------------- |\n",
    "\n",
    "\n",
    "---"
   ]
  },
  {
   "cell_type": "code",
   "execution_count": 207,
   "id": "8cff206e-5be8-4ca7-871f-7ba0ef665d51",
   "metadata": {},
   "outputs": [],
   "source": [
    "# Function to get collaborative recommendations for a user profile\n",
    "def collaborative_recommendations(svd, merged_df, movie_title, n=10):\n",
    "    # get movieId for the given movie title\n",
    "    movie_id = merged_df[merged_df['title'] == movie_title]['movieId'].values[0]\n",
    "\n",
    "    # Extract user profiles for the users who have rated the specified movie\n",
    "    user_ids = merged_df[merged_df['movieId'] == movie_id]['userId'].unique()\n",
    "\n",
    "    # get all unique movie IDs except the specified movie_id\n",
    "    movie_ids = merged_df['movieId'].unique()\n",
    "    movie_ids = movie_ids[movie_ids != movie_id]\n",
    "\n",
    "    recommendations = []\n",
    "\n",
    "    # Predict ratings for a random sample of users to speed up the process\n",
    "    sampled_user_ids = pd.Series(user_ids).sample(n=min(len(user_ids), 100), random_state=42).values\n",
    "    sampled_movie_ids = pd.Series(movie_ids).sample(n=min(len(movie_ids), 1000), random_state=42).values\n",
    "\n",
    "    for user_id in sampled_user_ids:\n",
    "        user_recommendations = []\n",
    "        for movie_id in sampled_movie_ids:\n",
    "            prediction = svd.predict(user_id, movie_id)\n",
    "            user_recommendations.append((merged_df[merged_df['movieId'] == movie_id]['title'].values[0], prediction.est))\n",
    "        user_recommendations = sorted(user_recommendations, key=lambda x: x[1], reverse=True)\n",
    "        recommendations.extend(user_recommendations[:n])\n",
    "\n",
    "    recommendations = sorted(recommendations, key=lambda x: x[1], reverse=True)\n",
    "\n",
    "    # Remove duplicates while preserving order\n",
    "    seen = set()\n",
    "    unique_recommendations = []\n",
    "    for movie, rating in recommendations:\n",
    "        if movie not in seen:\n",
    "            unique_recommendations.append(movie)\n",
    "            seen.add(movie)\n",
    "        if len(unique_recommendations) >= n:\n",
    "            break\n",
    "\n",
    "    return pd.Series(unique_recommendations, name=\"Recommended Movies\")"
   ]
  },
  {
   "cell_type": "code",
   "execution_count": null,
   "id": "f1b3e107-9cda-4b0e-91f9-4b530bc92113",
   "metadata": {},
   "outputs": [],
   "source": [
    "# call top_recommendations based on 'title'\n",
    "top_recommendations = collaborative_recommendations(svd, merged_df, 'Jumanji (1995)', n=10)\n",
    "top_recommendations"
   ]
  },
  {
   "cell_type": "code",
   "execution_count": null,
   "id": "648e77a5-e3ba-4393-8344-44b3f37add10",
   "metadata": {},
   "outputs": [],
   "source": []
  }
 ],
 "metadata": {
  "accelerator": "GPU",
  "colab": {
   "gpuType": "T4",
   "provenance": []
  },
  "kernelspec": {
   "display_name": "Python 3 (ipykernel)",
   "language": "python",
   "name": "python3"
  },
  "language_info": {
   "codemirror_mode": {
    "name": "ipython",
    "version": 3
   },
   "file_extension": ".py",
   "mimetype": "text/x-python",
   "name": "python",
   "nbconvert_exporter": "python",
   "pygments_lexer": "ipython3",
   "version": "3.11.5"
  },
  "latex_envs": {
   "LaTeX_envs_menu_present": true,
   "autoclose": false,
   "autocomplete": true,
   "bibliofile": "biblio.bib",
   "cite_by": "apalike",
   "current_citInitial": 1,
   "eqLabelWithNumbers": true,
   "eqNumInitial": 1,
   "hotkeys": {
    "equation": "Ctrl-E",
    "itemize": "Ctrl-I"
   },
   "labels_anchors": false,
   "latex_user_defs": false,
   "report_style_numbering": false,
   "user_envs_cfg": false
  },
  "toc": {
   "base_numbering": 1,
   "nav_menu": {},
   "number_sections": true,
   "sideBar": true,
   "skip_h1_title": false,
   "title_cell": "Table of Contents",
   "title_sidebar": "Contents",
   "toc_cell": false,
   "toc_position": {},
   "toc_section_display": true,
   "toc_window_display": false
  },
  "varInspector": {
   "cols": {
    "lenName": 16,
    "lenType": 16,
    "lenVar": 40
   },
   "kernels_config": {
    "python": {
     "delete_cmd_postfix": "",
     "delete_cmd_prefix": "del ",
     "library": "var_list.py",
     "varRefreshCmd": "print(var_dic_list())"
    },
    "r": {
     "delete_cmd_postfix": ") ",
     "delete_cmd_prefix": "rm(",
     "library": "var_list.r",
     "varRefreshCmd": "cat(var_dic_list()) "
    }
   },
   "types_to_exclude": [
    "module",
    "function",
    "builtin_function_or_method",
    "instance",
    "_Feature"
   ],
   "window_display": false
  },
  "vscode": {
   "interpreter": {
    "hash": "1cca9558bc5ad879ec93cc030b157d75f18267527c60932cecaace349eef54dd"
   }
  }
 },
 "nbformat": 4,
 "nbformat_minor": 5
}
