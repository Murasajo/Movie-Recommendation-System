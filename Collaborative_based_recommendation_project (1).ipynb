{
 "cells": [
  {
   "cell_type": "code",
   "execution_count": null,
   "id": "83f3ccbe-59ae-4ba0-8f40-20eefa20c062",
   "metadata": {
    "colab": {
     "base_uri": "https://localhost:8080/"
    },
    "id": "83f3ccbe-59ae-4ba0-8f40-20eefa20c062",
    "outputId": "2e12606e-f63c-4ffb-d7e8-ef6f97313fcf",
    "scrolled": true
   },
   "outputs": [],
   "source": [
    "!pip install scikit-surprise"
   ]
  },
  {
   "cell_type": "code",
   "execution_count": null,
   "id": "9290b81d-646e-4b8e-a54d-bc3c85e159c5",
   "metadata": {
    "id": "9290b81d-646e-4b8e-a54d-bc3c85e159c5"
   },
   "outputs": [],
   "source": [
    "# Packages for data processing\n",
    "import numpy as np\n",
    "import pandas as pd\n",
    "import datetime\n",
    "from sklearn import preprocessing\n",
    "from sklearn.datasets import make_blobs\n",
    "from sklearn.preprocessing import StandardScaler\n",
    "from sklearn.feature_extraction.text import TfidfVectorizer\n",
    "from sklearn.metrics.pairwise import cosine_similarity\n",
    "from sklearn.metrics.pairwise import pairwise_distances\n",
    "\n",
    "import re\n",
    "from scipy.sparse import csr_matrix\n",
    "import scipy as sp\n",
    "\n",
    "\n",
    "# Packages for visualization\n",
    "import matplotlib.pyplot as plt\n",
    "import seaborn as sns\n",
    "%matplotlib inline\n",
    "\n",
    "# Packages for modeling\n",
    "from surprise import Reader\n",
    "from surprise import Dataset\n",
    "from surprise import KNNWithMeans\n",
    "from surprise import KNNBasic\n",
    "from surprise.model_selection import cross_validate\n",
    "from surprise.model_selection import GridSearchCV\n",
    "from surprise import SVD\n",
    "from surprise import SVDpp\n",
    "from surprise import NMF\n",
    "from surprise import SlopeOne\n",
    "from surprise import CoClustering\n",
    "import heapq\n",
    "\n",
    "# Packages for model evaluation\n",
    "from sklearn.metrics import mean_squared_error\n",
    "from sklearn.metrics import mean_absolute_error\n",
    "from time import time\n",
    "\n",
    "# Package to suppress warnings\n",
    "import warnings\n",
    "warnings.filterwarnings(\"ignore\")\n",
    "\n",
    "# Packages for saving models\n",
    "import pickle"
   ]
  },
  {
   "cell_type": "markdown",
   "id": "cc67b75c-cb87-432e-8f23-a293aa695853",
   "metadata": {
    "id": "cc67b75c-cb87-432e-8f23-a293aa695853"
   },
   "source": [
    "## Loading Datasets"
   ]
  },
  {
   "cell_type": "code",
   "execution_count": 316,
   "id": "bea59abb-4d19-4c54-b34f-2f8c916a4863",
   "metadata": {
    "id": "bea59abb-4d19-4c54-b34f-2f8c916a4863"
   },
   "outputs": [],
   "source": [
    "# Load the necessary datasets\n",
    "movies_df = pd.read_csv('movies.csv')\n",
    "imdb_df = pd.read_csv('imdb_data.csv')\n",
    "links_df = pd.read_csv('links.csv')\n",
    "tags = pd.read_csv('tags.csv')\n",
    "genome_scores = pd.read_csv('genome_scores.csv')\n",
    "genome_tags = pd.read_csv('genome_tags.csv')\n",
    "train_df = pd.read_csv('train.csv')\n",
    "test_df = pd.read_csv('test.csv')"
   ]
  },
  {
   "cell_type": "code",
   "execution_count": 317,
   "id": "d6c29cdb-7d53-4c26-a4a2-692154422d46",
   "metadata": {
    "colab": {
     "base_uri": "https://localhost:8080/"
    },
    "id": "d6c29cdb-7d53-4c26-a4a2-692154422d46",
    "outputId": "ee585a4c-fd7f-45c9-910b-bef461ef4f7f"
   },
   "outputs": [
    {
     "name": "stdout",
     "output_type": "stream",
     "text": [
      "The Shape of the movies data is:  (62423, 3)\n",
      "   movieId                    title  \\\n",
      "0        1         Toy Story (1995)   \n",
      "1        2           Jumanji (1995)   \n",
      "2        3  Grumpier Old Men (1995)   \n",
      "\n",
      "                                        genres  \n",
      "0  Adventure|Animation|Children|Comedy|Fantasy  \n",
      "1                   Adventure|Children|Fantasy  \n",
      "2                               Comedy|Romance  \n",
      "********************************************************\n",
      "The Shape of the  Train data is:  (27278, 6)\n",
      "   userId  movieId  rating   timestamp\n",
      "0    5163    57669     4.0  1518349992\n",
      "1  106343        5     4.5  1206238739\n",
      "2  146790     5459     5.0  1076215539\n"
     ]
    }
   ],
   "source": [
    "# Preview datasets\n",
    "print('The Shape of the movies data is: ', movies_df.shape)\n",
    "print(movies_df.head(3))\n",
    "\n",
    "print(\"********************************************************\")\n",
    "print('The Shape of the  Train data is: ', imdb_df.shape)\n",
    "print(train_df.head(3))\n"
   ]
  },
  {
   "cell_type": "code",
   "execution_count": 318,
   "id": "3818d903-4f6b-4c3a-923b-8728f8340541",
   "metadata": {
    "colab": {
     "base_uri": "https://localhost:8080/"
    },
    "id": "3818d903-4f6b-4c3a-923b-8728f8340541",
    "outputId": "309268be-b55a-4e7b-ab24-86832bfa378f"
   },
   "outputs": [
    {
     "name": "stdout",
     "output_type": "stream",
     "text": [
      "<class 'pandas.core.frame.DataFrame'>\n",
      "RangeIndex: 62423 entries, 0 to 62422\n",
      "Data columns (total 3 columns):\n",
      " #   Column   Non-Null Count  Dtype \n",
      "---  ------   --------------  ----- \n",
      " 0   movieId  62423 non-null  int64 \n",
      " 1   title    62423 non-null  object\n",
      " 2   genres   62423 non-null  object\n",
      "dtypes: int64(1), object(2)\n",
      "memory usage: 1.4+ MB\n",
      "None\n",
      "------------------------\n",
      "<class 'pandas.core.frame.DataFrame'>\n",
      "RangeIndex: 10000038 entries, 0 to 10000037\n",
      "Data columns (total 4 columns):\n",
      " #   Column     Dtype  \n",
      "---  ------     -----  \n",
      " 0   userId     int64  \n",
      " 1   movieId    int64  \n",
      " 2   rating     float64\n",
      " 3   timestamp  int64  \n",
      "dtypes: float64(1), int64(3)\n",
      "memory usage: 305.2 MB\n",
      "None\n"
     ]
    }
   ],
   "source": [
    "print(movies_df.info())\n",
    "print('------------------------')\n",
    "print(train_df.info())"
   ]
  },
  {
   "cell_type": "code",
   "execution_count": 319,
   "id": "5ae17a38-5786-43f9-911c-ebf1950d6c3c",
   "metadata": {
    "colab": {
     "base_uri": "https://localhost:8080/",
     "height": 206
    },
    "id": "5ae17a38-5786-43f9-911c-ebf1950d6c3c",
    "outputId": "e0c5f883-d0c1-4b4f-f4b8-53875082ab5a"
   },
   "outputs": [
    {
     "data": {
      "text/html": [
       "<div>\n",
       "<style scoped>\n",
       "    .dataframe tbody tr th:only-of-type {\n",
       "        vertical-align: middle;\n",
       "    }\n",
       "\n",
       "    .dataframe tbody tr th {\n",
       "        vertical-align: top;\n",
       "    }\n",
       "\n",
       "    .dataframe thead th {\n",
       "        text-align: right;\n",
       "    }\n",
       "</style>\n",
       "<table border=\"1\" class=\"dataframe\">\n",
       "  <thead>\n",
       "    <tr style=\"text-align: right;\">\n",
       "      <th></th>\n",
       "      <th>userId</th>\n",
       "      <th>movieId</th>\n",
       "      <th>rating</th>\n",
       "      <th>timestamp</th>\n",
       "    </tr>\n",
       "  </thead>\n",
       "  <tbody>\n",
       "    <tr>\n",
       "      <th>0</th>\n",
       "      <td>5163</td>\n",
       "      <td>57669</td>\n",
       "      <td>4.0</td>\n",
       "      <td>1518349992</td>\n",
       "    </tr>\n",
       "    <tr>\n",
       "      <th>1</th>\n",
       "      <td>106343</td>\n",
       "      <td>5</td>\n",
       "      <td>4.5</td>\n",
       "      <td>1206238739</td>\n",
       "    </tr>\n",
       "    <tr>\n",
       "      <th>2</th>\n",
       "      <td>146790</td>\n",
       "      <td>5459</td>\n",
       "      <td>5.0</td>\n",
       "      <td>1076215539</td>\n",
       "    </tr>\n",
       "    <tr>\n",
       "      <th>3</th>\n",
       "      <td>106362</td>\n",
       "      <td>32296</td>\n",
       "      <td>2.0</td>\n",
       "      <td>1423042565</td>\n",
       "    </tr>\n",
       "    <tr>\n",
       "      <th>4</th>\n",
       "      <td>9041</td>\n",
       "      <td>366</td>\n",
       "      <td>3.0</td>\n",
       "      <td>833375837</td>\n",
       "    </tr>\n",
       "  </tbody>\n",
       "</table>\n",
       "</div>"
      ],
      "text/plain": [
       "   userId  movieId  rating   timestamp\n",
       "0    5163    57669     4.0  1518349992\n",
       "1  106343        5     4.5  1206238739\n",
       "2  146790     5459     5.0  1076215539\n",
       "3  106362    32296     2.0  1423042565\n",
       "4    9041      366     3.0   833375837"
      ]
     },
     "execution_count": 319,
     "metadata": {},
     "output_type": "execute_result"
    }
   ],
   "source": [
    "train_df.head()"
   ]
  },
  {
   "cell_type": "code",
   "execution_count": 320,
   "id": "5c6e7f2e-d783-4f02-8016-fca7eecb636f",
   "metadata": {
    "colab": {
     "base_uri": "https://localhost:8080/",
     "height": 206
    },
    "id": "5c6e7f2e-d783-4f02-8016-fca7eecb636f",
    "outputId": "2f5e83a5-33ce-4fe8-c587-dd2763741ca7"
   },
   "outputs": [
    {
     "data": {
      "text/html": [
       "<div>\n",
       "<style scoped>\n",
       "    .dataframe tbody tr th:only-of-type {\n",
       "        vertical-align: middle;\n",
       "    }\n",
       "\n",
       "    .dataframe tbody tr th {\n",
       "        vertical-align: top;\n",
       "    }\n",
       "\n",
       "    .dataframe thead th {\n",
       "        text-align: right;\n",
       "    }\n",
       "</style>\n",
       "<table border=\"1\" class=\"dataframe\">\n",
       "  <thead>\n",
       "    <tr style=\"text-align: right;\">\n",
       "      <th></th>\n",
       "      <th>movieId</th>\n",
       "      <th>title</th>\n",
       "      <th>genres</th>\n",
       "    </tr>\n",
       "  </thead>\n",
       "  <tbody>\n",
       "    <tr>\n",
       "      <th>0</th>\n",
       "      <td>1</td>\n",
       "      <td>Toy Story (1995)</td>\n",
       "      <td>Adventure|Animation|Children|Comedy|Fantasy</td>\n",
       "    </tr>\n",
       "    <tr>\n",
       "      <th>1</th>\n",
       "      <td>2</td>\n",
       "      <td>Jumanji (1995)</td>\n",
       "      <td>Adventure|Children|Fantasy</td>\n",
       "    </tr>\n",
       "    <tr>\n",
       "      <th>2</th>\n",
       "      <td>3</td>\n",
       "      <td>Grumpier Old Men (1995)</td>\n",
       "      <td>Comedy|Romance</td>\n",
       "    </tr>\n",
       "    <tr>\n",
       "      <th>3</th>\n",
       "      <td>4</td>\n",
       "      <td>Waiting to Exhale (1995)</td>\n",
       "      <td>Comedy|Drama|Romance</td>\n",
       "    </tr>\n",
       "    <tr>\n",
       "      <th>4</th>\n",
       "      <td>5</td>\n",
       "      <td>Father of the Bride Part II (1995)</td>\n",
       "      <td>Comedy</td>\n",
       "    </tr>\n",
       "  </tbody>\n",
       "</table>\n",
       "</div>"
      ],
      "text/plain": [
       "   movieId                               title  \\\n",
       "0        1                    Toy Story (1995)   \n",
       "1        2                      Jumanji (1995)   \n",
       "2        3             Grumpier Old Men (1995)   \n",
       "3        4            Waiting to Exhale (1995)   \n",
       "4        5  Father of the Bride Part II (1995)   \n",
       "\n",
       "                                        genres  \n",
       "0  Adventure|Animation|Children|Comedy|Fantasy  \n",
       "1                   Adventure|Children|Fantasy  \n",
       "2                               Comedy|Romance  \n",
       "3                         Comedy|Drama|Romance  \n",
       "4                                       Comedy  "
      ]
     },
     "execution_count": 320,
     "metadata": {},
     "output_type": "execute_result"
    }
   ],
   "source": [
    "movies_df.head()"
   ]
  },
  {
   "cell_type": "code",
   "execution_count": 321,
   "id": "0dc22133-4b15-4012-a5c8-41f5628d13ed",
   "metadata": {
    "id": "0dc22133-4b15-4012-a5c8-41f5628d13ed"
   },
   "outputs": [],
   "source": [
    "# group by ratings for visualization\n",
    "ratings_df = train_df.groupby(['rating']).count()"
   ]
  },
  {
   "cell_type": "code",
   "execution_count": 322,
   "id": "85cbf844-60ce-435b-8404-2366158496d9",
   "metadata": {
    "colab": {
     "base_uri": "https://localhost:8080/",
     "height": 822
    },
    "id": "85cbf844-60ce-435b-8404-2366158496d9",
    "outputId": "5c315690-0364-4812-d5c6-3ab126b86a85"
   },
   "outputs": [
    {
     "data": {
      "image/png": "[encoded data removed]",
      "text/plain": [
       "<Figure size 1500x1000 with 1 Axes>"
      ]
     },
     "metadata": {},
     "output_type": "display_data"
    }
   ],
   "source": [
    "#Plot showing the distribution of counts\n",
    "plot = plt.figure(figsize=(15, 10))\n",
    "a = sns.barplot(x=ratings_df.index,y='userId',data=ratings_df,palette='crest')\n",
    "a.set_title('The Distribution of Ratings',fontsize=20)\n",
    "a.set_ylabel('Count in Millions',fontsize=15)\n",
    "a.set_xlabel('Ratings',fontsize=15)\n",
    "\n",
    "#Obtaining percentages on top of bars\n",
    "n_obs = [i.get_height() for i in a.patches]\n",
    "total = sum(n_obs)\n",
    "\n",
    "for i in a.patches:\n",
    "    # get_x pulls left or right; get_height pushes up or down\n",
    "    a.text(i.get_x()+i.get_width() / 2, i.get_height()+0.5, \\\n",
    "            str(round((i.get_height()/total)*100, 1))+'%', fontsize=15,\n",
    "                color='black',ha='center')\n",
    "\n",
    "plt.show()\n"
   ]
  },
  {
   "cell_type": "code",
   "execution_count": 323,
   "id": "326bd512-345a-46bc-ae15-dbeb6be3334e",
   "metadata": {
    "colab": {
     "base_uri": "https://localhost:8080/"
    },
    "id": "326bd512-345a-46bc-ae15-dbeb6be3334e",
    "outputId": "3cd08b8e-823e-4c8a-fb7c-d138f75b31b6"
   },
   "outputs": [
    {
     "data": {
      "text/plain": [
       "62423"
      ]
     },
     "execution_count": 323,
     "metadata": {},
     "output_type": "execute_result"
    }
   ],
   "source": [
    "movies_df['movieId'].nunique()"
   ]
  },
  {
   "cell_type": "code",
   "execution_count": 324,
   "id": "12ea2a93-8455-4dd7-af83-62ecefaf977c",
   "metadata": {
    "colab": {
     "base_uri": "https://localhost:8080/"
    },
    "id": "12ea2a93-8455-4dd7-af83-62ecefaf977c",
    "outputId": "e1f5df0d-26f3-47dc-c44b-175de508b33c"
   },
   "outputs": [
    {
     "data": {
      "text/plain": [
       "48213"
      ]
     },
     "execution_count": 324,
     "metadata": {},
     "output_type": "execute_result"
    }
   ],
   "source": [
    "train_df['movieId'].nunique()"
   ]
  },
  {
   "cell_type": "code",
   "execution_count": 325,
   "id": "61f10f44-ff6d-4c2c-95f5-b8d30a5875f7",
   "metadata": {
    "id": "61f10f44-ff6d-4c2c-95f5-b8d30a5875f7"
   },
   "outputs": [],
   "source": [
    "#movie_case = movies_df['movieId'].unique()\n",
    "#train_case = train_df['movieId'].unique()\n",
    "#print([id for id in movie_case if id in train_case])"
   ]
  },
  {
   "cell_type": "code",
   "execution_count": 326,
   "id": "b5bc332c-7c00-4482-9f16-32ff809d98be",
   "metadata": {
    "colab": {
     "base_uri": "https://localhost:8080/",
     "height": 206
    },
    "id": "b5bc332c-7c00-4482-9f16-32ff809d98be",
    "outputId": "c351968f-f3fa-4ffe-a004-c83cd2f098b9"
   },
   "outputs": [
    {
     "data": {
      "text/html": [
       "<div>\n",
       "<style scoped>\n",
       "    .dataframe tbody tr th:only-of-type {\n",
       "        vertical-align: middle;\n",
       "    }\n",
       "\n",
       "    .dataframe tbody tr th {\n",
       "        vertical-align: top;\n",
       "    }\n",
       "\n",
       "    .dataframe thead th {\n",
       "        text-align: right;\n",
       "    }\n",
       "</style>\n",
       "<table border=\"1\" class=\"dataframe\">\n",
       "  <thead>\n",
       "    <tr style=\"text-align: right;\">\n",
       "      <th></th>\n",
       "      <th>userId</th>\n",
       "      <th>movieId</th>\n",
       "      <th>rating</th>\n",
       "      <th>timestamp</th>\n",
       "    </tr>\n",
       "  </thead>\n",
       "  <tbody>\n",
       "    <tr>\n",
       "      <th>5318360</th>\n",
       "      <td>30656</td>\n",
       "      <td>1</td>\n",
       "      <td>4.0</td>\n",
       "      <td>938508612</td>\n",
       "    </tr>\n",
       "    <tr>\n",
       "      <th>1138504</th>\n",
       "      <td>104139</td>\n",
       "      <td>1</td>\n",
       "      <td>5.0</td>\n",
       "      <td>1241744540</td>\n",
       "    </tr>\n",
       "    <tr>\n",
       "      <th>6951432</th>\n",
       "      <td>52794</td>\n",
       "      <td>1</td>\n",
       "      <td>2.5</td>\n",
       "      <td>1136086452</td>\n",
       "    </tr>\n",
       "    <tr>\n",
       "      <th>6334589</th>\n",
       "      <td>6586</td>\n",
       "      <td>1</td>\n",
       "      <td>4.0</td>\n",
       "      <td>1043530748</td>\n",
       "    </tr>\n",
       "    <tr>\n",
       "      <th>9745606</th>\n",
       "      <td>83665</td>\n",
       "      <td>1</td>\n",
       "      <td>5.0</td>\n",
       "      <td>1494516956</td>\n",
       "    </tr>\n",
       "  </tbody>\n",
       "</table>\n",
       "</div>"
      ],
      "text/plain": [
       "         userId  movieId  rating   timestamp\n",
       "5318360   30656        1     4.0   938508612\n",
       "1138504  104139        1     5.0  1241744540\n",
       "6951432   52794        1     2.5  1136086452\n",
       "6334589    6586        1     4.0  1043530748\n",
       "9745606   83665        1     5.0  1494516956"
      ]
     },
     "execution_count": 326,
     "metadata": {},
     "output_type": "execute_result"
    }
   ],
   "source": [
    "# Sort train dataset by movieId\n",
    "train_df.sort_values(by=['movieId'], inplace= True)\n",
    "train_df.head()"
   ]
  },
  {
   "cell_type": "code",
   "execution_count": 327,
   "id": "f1fb4491-d2b6-4589-9eb4-93e202c7dc2d",
   "metadata": {
    "colab": {
     "base_uri": "https://localhost:8080/",
     "height": 206
    },
    "id": "f1fb4491-d2b6-4589-9eb4-93e202c7dc2d",
    "outputId": "6a771768-bb18-4a6a-8af0-144cc2585b04"
   },
   "outputs": [
    {
     "data": {
      "text/html": [
       "<div>\n",
       "<style scoped>\n",
       "    .dataframe tbody tr th:only-of-type {\n",
       "        vertical-align: middle;\n",
       "    }\n",
       "\n",
       "    .dataframe tbody tr th {\n",
       "        vertical-align: top;\n",
       "    }\n",
       "\n",
       "    .dataframe thead th {\n",
       "        text-align: right;\n",
       "    }\n",
       "</style>\n",
       "<table border=\"1\" class=\"dataframe\">\n",
       "  <thead>\n",
       "    <tr style=\"text-align: right;\">\n",
       "      <th></th>\n",
       "      <th>movieId</th>\n",
       "      <th>title</th>\n",
       "      <th>genres</th>\n",
       "    </tr>\n",
       "  </thead>\n",
       "  <tbody>\n",
       "    <tr>\n",
       "      <th>0</th>\n",
       "      <td>1</td>\n",
       "      <td>Toy Story (1995)</td>\n",
       "      <td>Adventure|Animation|Children|Comedy|Fantasy</td>\n",
       "    </tr>\n",
       "    <tr>\n",
       "      <th>1</th>\n",
       "      <td>2</td>\n",
       "      <td>Jumanji (1995)</td>\n",
       "      <td>Adventure|Children|Fantasy</td>\n",
       "    </tr>\n",
       "    <tr>\n",
       "      <th>2</th>\n",
       "      <td>3</td>\n",
       "      <td>Grumpier Old Men (1995)</td>\n",
       "      <td>Comedy|Romance</td>\n",
       "    </tr>\n",
       "    <tr>\n",
       "      <th>3</th>\n",
       "      <td>4</td>\n",
       "      <td>Waiting to Exhale (1995)</td>\n",
       "      <td>Comedy|Drama|Romance</td>\n",
       "    </tr>\n",
       "    <tr>\n",
       "      <th>4</th>\n",
       "      <td>5</td>\n",
       "      <td>Father of the Bride Part II (1995)</td>\n",
       "      <td>Comedy</td>\n",
       "    </tr>\n",
       "  </tbody>\n",
       "</table>\n",
       "</div>"
      ],
      "text/plain": [
       "   movieId                               title  \\\n",
       "0        1                    Toy Story (1995)   \n",
       "1        2                      Jumanji (1995)   \n",
       "2        3             Grumpier Old Men (1995)   \n",
       "3        4            Waiting to Exhale (1995)   \n",
       "4        5  Father of the Bride Part II (1995)   \n",
       "\n",
       "                                        genres  \n",
       "0  Adventure|Animation|Children|Comedy|Fantasy  \n",
       "1                   Adventure|Children|Fantasy  \n",
       "2                               Comedy|Romance  \n",
       "3                         Comedy|Drama|Romance  \n",
       "4                                       Comedy  "
      ]
     },
     "execution_count": 327,
     "metadata": {},
     "output_type": "execute_result"
    }
   ],
   "source": [
    "# Sort movies dataset by movieId\n",
    "movies_df.sort_values(by=['movieId'], inplace= True)\n",
    "movies_df.head()"
   ]
  },
  {
   "cell_type": "code",
   "execution_count": 328,
   "id": "1090fe52-6374-4cdc-9205-253265a875f6",
   "metadata": {
    "colab": {
     "base_uri": "https://localhost:8080/",
     "height": 206
    },
    "id": "1090fe52-6374-4cdc-9205-253265a875f6",
    "outputId": "4e4c0398-4492-4df2-fbeb-d8b03331cd5f"
   },
   "outputs": [
    {
     "data": {
      "text/html": [
       "<div>\n",
       "<style scoped>\n",
       "    .dataframe tbody tr th:only-of-type {\n",
       "        vertical-align: middle;\n",
       "    }\n",
       "\n",
       "    .dataframe tbody tr th {\n",
       "        vertical-align: top;\n",
       "    }\n",
       "\n",
       "    .dataframe thead th {\n",
       "        text-align: right;\n",
       "    }\n",
       "</style>\n",
       "<table border=\"1\" class=\"dataframe\">\n",
       "  <thead>\n",
       "    <tr style=\"text-align: right;\">\n",
       "      <th></th>\n",
       "      <th>userId</th>\n",
       "      <th>movieId</th>\n",
       "      <th>rating</th>\n",
       "      <th>timestamp</th>\n",
       "      <th>title</th>\n",
       "      <th>genres</th>\n",
       "    </tr>\n",
       "  </thead>\n",
       "  <tbody>\n",
       "    <tr>\n",
       "      <th>0</th>\n",
       "      <td>30656</td>\n",
       "      <td>1</td>\n",
       "      <td>4.0</td>\n",
       "      <td>938508612</td>\n",
       "      <td>Toy Story (1995)</td>\n",
       "      <td>Adventure|Animation|Children|Comedy|Fantasy</td>\n",
       "    </tr>\n",
       "    <tr>\n",
       "      <th>1</th>\n",
       "      <td>104139</td>\n",
       "      <td>1</td>\n",
       "      <td>5.0</td>\n",
       "      <td>1241744540</td>\n",
       "      <td>Toy Story (1995)</td>\n",
       "      <td>Adventure|Animation|Children|Comedy|Fantasy</td>\n",
       "    </tr>\n",
       "    <tr>\n",
       "      <th>2</th>\n",
       "      <td>52794</td>\n",
       "      <td>1</td>\n",
       "      <td>2.5</td>\n",
       "      <td>1136086452</td>\n",
       "      <td>Toy Story (1995)</td>\n",
       "      <td>Adventure|Animation|Children|Comedy|Fantasy</td>\n",
       "    </tr>\n",
       "    <tr>\n",
       "      <th>3</th>\n",
       "      <td>6586</td>\n",
       "      <td>1</td>\n",
       "      <td>4.0</td>\n",
       "      <td>1043530748</td>\n",
       "      <td>Toy Story (1995)</td>\n",
       "      <td>Adventure|Animation|Children|Comedy|Fantasy</td>\n",
       "    </tr>\n",
       "    <tr>\n",
       "      <th>4</th>\n",
       "      <td>83665</td>\n",
       "      <td>1</td>\n",
       "      <td>5.0</td>\n",
       "      <td>1494516956</td>\n",
       "      <td>Toy Story (1995)</td>\n",
       "      <td>Adventure|Animation|Children|Comedy|Fantasy</td>\n",
       "    </tr>\n",
       "  </tbody>\n",
       "</table>\n",
       "</div>"
      ],
      "text/plain": [
       "   userId  movieId  rating   timestamp             title  \\\n",
       "0   30656        1     4.0   938508612  Toy Story (1995)   \n",
       "1  104139        1     5.0  1241744540  Toy Story (1995)   \n",
       "2   52794        1     2.5  1136086452  Toy Story (1995)   \n",
       "3    6586        1     4.0  1043530748  Toy Story (1995)   \n",
       "4   83665        1     5.0  1494516956  Toy Story (1995)   \n",
       "\n",
       "                                        genres  \n",
       "0  Adventure|Animation|Children|Comedy|Fantasy  \n",
       "1  Adventure|Animation|Children|Comedy|Fantasy  \n",
       "2  Adventure|Animation|Children|Comedy|Fantasy  \n",
       "3  Adventure|Animation|Children|Comedy|Fantasy  \n",
       "4  Adventure|Animation|Children|Comedy|Fantasy  "
      ]
     },
     "execution_count": 328,
     "metadata": {},
     "output_type": "execute_result"
    }
   ],
   "source": [
    "# Merge based on the columns movieId, and movieId\n",
    "merged_df = pd.merge(train_df, movies_df, left_on=['movieId', 'movieId'], right_on=['movieId', 'movieId'], how='inner')\n",
    "merged_df.head()"
   ]
  },
  {
   "cell_type": "code",
   "execution_count": 329,
   "id": "252feb76-b301-4b44-ab18-4144c647efdb",
   "metadata": {
    "colab": {
     "base_uri": "https://localhost:8080/"
    },
    "id": "252feb76-b301-4b44-ab18-4144c647efdb",
    "outputId": "df76b8df-3b57-428b-c248-1b7c1f753334"
   },
   "outputs": [
    {
     "name": "stdout",
     "output_type": "stream",
     "text": [
      "<class 'pandas.core.frame.DataFrame'>\n",
      "RangeIndex: 10000038 entries, 0 to 10000037\n",
      "Data columns (total 6 columns):\n",
      " #   Column     Dtype  \n",
      "---  ------     -----  \n",
      " 0   userId     int64  \n",
      " 1   movieId    int64  \n",
      " 2   rating     float64\n",
      " 3   timestamp  int64  \n",
      " 4   title      object \n",
      " 5   genres     object \n",
      "dtypes: float64(1), int64(3), object(2)\n",
      "memory usage: 457.8+ MB\n"
     ]
    }
   ],
   "source": [
    "merged_df.info()"
   ]
  },
  {
   "cell_type": "code",
   "execution_count": 330,
   "id": "61d0196f-bf9e-40f1-ad85-ead4a4da7906",
   "metadata": {
    "colab": {
     "base_uri": "https://localhost:8080/",
     "height": 206
    },
    "id": "61d0196f-bf9e-40f1-ad85-ead4a4da7906",
    "outputId": "927dd47b-63dd-458c-e26d-7791b12e1618"
   },
   "outputs": [
    {
     "data": {
      "text/html": [
       "<div>\n",
       "<style scoped>\n",
       "    .dataframe tbody tr th:only-of-type {\n",
       "        vertical-align: middle;\n",
       "    }\n",
       "\n",
       "    .dataframe tbody tr th {\n",
       "        vertical-align: top;\n",
       "    }\n",
       "\n",
       "    .dataframe thead th {\n",
       "        text-align: right;\n",
       "    }\n",
       "</style>\n",
       "<table border=\"1\" class=\"dataframe\">\n",
       "  <thead>\n",
       "    <tr style=\"text-align: right;\">\n",
       "      <th></th>\n",
       "      <th>userId</th>\n",
       "      <th>movieId</th>\n",
       "      <th>rating</th>\n",
       "      <th>title</th>\n",
       "    </tr>\n",
       "  </thead>\n",
       "  <tbody>\n",
       "    <tr>\n",
       "      <th>0</th>\n",
       "      <td>30656</td>\n",
       "      <td>1</td>\n",
       "      <td>4.0</td>\n",
       "      <td>Toy Story (1995)</td>\n",
       "    </tr>\n",
       "    <tr>\n",
       "      <th>1</th>\n",
       "      <td>104139</td>\n",
       "      <td>1</td>\n",
       "      <td>5.0</td>\n",
       "      <td>Toy Story (1995)</td>\n",
       "    </tr>\n",
       "    <tr>\n",
       "      <th>2</th>\n",
       "      <td>52794</td>\n",
       "      <td>1</td>\n",
       "      <td>2.5</td>\n",
       "      <td>Toy Story (1995)</td>\n",
       "    </tr>\n",
       "    <tr>\n",
       "      <th>3</th>\n",
       "      <td>6586</td>\n",
       "      <td>1</td>\n",
       "      <td>4.0</td>\n",
       "      <td>Toy Story (1995)</td>\n",
       "    </tr>\n",
       "    <tr>\n",
       "      <th>4</th>\n",
       "      <td>83665</td>\n",
       "      <td>1</td>\n",
       "      <td>5.0</td>\n",
       "      <td>Toy Story (1995)</td>\n",
       "    </tr>\n",
       "  </tbody>\n",
       "</table>\n",
       "</div>"
      ],
      "text/plain": [
       "   userId  movieId  rating             title\n",
       "0   30656        1     4.0  Toy Story (1995)\n",
       "1  104139        1     5.0  Toy Story (1995)\n",
       "2   52794        1     2.5  Toy Story (1995)\n",
       "3    6586        1     4.0  Toy Story (1995)\n",
       "4   83665        1     5.0  Toy Story (1995)"
      ]
     },
     "execution_count": 330,
     "metadata": {},
     "output_type": "execute_result"
    }
   ],
   "source": [
    "# drop unwanted columns in modelling and producing recommendations\n",
    "merged_df.drop(columns=['timestamp', 'genres'], axis=1, inplace=True)\n",
    "merged_df.head()"
   ]
  },
  {
   "cell_type": "code",
   "execution_count": 257,
   "id": "df0c2011-25bc-42c2-b6e7-34f497d64488",
   "metadata": {
    "colab": {
     "base_uri": "https://localhost:8080/",
     "height": 206
    },
    "id": "df0c2011-25bc-42c2-b6e7-34f497d64488",
    "outputId": "aa4bd71c-db26-4cc3-c80e-4d29158528a9"
   },
   "outputs": [],
   "source": [
    "# Sample the data if the full dataset is too large to handle\n",
    "sampled_df = merged_df.sample(n=10000, random_state=42)\n",
    "\n",
    "# Sort the sampled DataFrame on the userId column\n",
    "sampled_df.sort_values(by='userId', inplace=True)"
   ]
  },
  {
   "cell_type": "code",
   "execution_count": 259,
   "id": "a92eafb2-e60f-4d0c-997c-80fe3cd379de",
   "metadata": {},
   "outputs": [],
   "source": [
    "sampled_df.reset_index(drop=True, inplace=True)"
   ]
  },
  {
   "cell_type": "code",
   "execution_count": 346,
   "id": "1bcc1f4f-41d3-40be-856b-1553a0d21525",
   "metadata": {
    "colab": {
     "base_uri": "https://localhost:8080/"
    },
    "id": "1bcc1f4f-41d3-40be-856b-1553a0d21525",
    "outputId": "f7e7292c-18a4-4f67-a317-851331a30d30"
   },
   "outputs": [
    {
     "data": {
      "text/plain": [
       "userId     0\n",
       "movieId    0\n",
       "rating     0\n",
       "title      0\n",
       "dtype: int64"
      ]
     },
     "execution_count": 346,
     "metadata": {},
     "output_type": "execute_result"
    }
   ],
   "source": [
    "sampled_df.isnull().sum()"
   ]
  },
  {
   "cell_type": "code",
   "execution_count": null,
   "id": "b9a819b0-3862-4d78-bd8c-595b0e34433a",
   "metadata": {},
   "outputs": [],
   "source": []
  },
  {
   "cell_type": "markdown",
   "id": "5cae9882-108f-4811-980c-461dd7a037fc",
   "metadata": {
    "id": "5cae9882-108f-4811-980c-461dd7a037fc"
   },
   "source": [
    "In a similar process to content filtering, where we first had to gather item features before we could compute their similarity, within collaborative filtering, we initially needed to gather all user ratings together by forming a utility matrix."
   ]
  },
  {
   "cell_type": "code",
   "execution_count": 350,
   "id": "f7f07b0d-6956-46bf-897a-a35e9566b7b7",
   "metadata": {
    "colab": {
     "base_uri": "https://localhost:8080/"
    },
    "id": "f7f07b0d-6956-46bf-897a-a35e9566b7b7",
    "outputId": "1e0fbe45-c145-4772-b24b-7ac212682a88"
   },
   "outputs": [
    {
     "data": {
      "text/plain": [
       "(9011, 3693)"
      ]
     },
     "execution_count": 350,
     "metadata": {},
     "output_type": "execute_result"
    }
   ],
   "source": [
    "#construct our utility matrix easily by using the pivot_table function\n",
    "util_matrix = sampled_df.pivot_table(index=['userId'],\n",
    "                                     columns=['title'],\n",
    "                                     values='rating')\n",
    "util_matrix.shape"
   ]
  },
  {
   "cell_type": "code",
   "execution_count": null,
   "id": "VtuUTQ8up9WE",
   "metadata": {
    "id": "VtuUTQ8up9WE"
   },
   "outputs": [],
   "source": []
  },
  {
   "cell_type": "code",
   "execution_count": 352,
   "id": "d33cb4f5-3829-4d59-acb2-ac78c09f9c58",
   "metadata": {
    "colab": {
     "base_uri": "https://localhost:8080/",
     "height": 635
    },
    "id": "d33cb4f5-3829-4d59-acb2-ac78c09f9c58",
    "outputId": "42310322-8787-49eb-9d36-e5969d84e55f"
   },
   "outputs": [],
   "source": [
    "# Create a neat version of the utility matrix to assist with plotting movie titles\n",
    "#sampled_df['neat_title'] = sampled_df['title'].apply(lambda x: x[:20])\n",
    "#util_matrix_neat = sampled_df.pivot_table(index=['userId'],\n",
    " #                                        columns=['neat_title'],\n",
    "  #                                       values='rating')\n",
    "#\n",
    "#fig, ax = plt.subplots(figsize=(15,5))\n",
    "#_ = sns.heatmap(util_matrix_neat[:100], annot=False, ax=ax).set_title('Movies Utility Matrix')\n"
   ]
  },
  {
   "cell_type": "code",
   "execution_count": 355,
   "id": "35e2c0a6-0beb-42ed-b329-57b99ffeb59b",
   "metadata": {},
   "outputs": [],
   "source": [
    "#sampled_df.drop(columns='neat_title', inplace=True)"
   ]
  },
  {
   "cell_type": "code",
   "execution_count": 357,
   "id": "685e9d7a-34f2-464e-b132-1c1acaf1e28f",
   "metadata": {
    "id": "685e9d7a-34f2-464e-b132-1c1acaf1e28f"
   },
   "outputs": [],
   "source": [
    "# Normalize each row (a given user's ratings) of the utility matrix\n",
    "util_matrix_norm = util_matrix.apply(lambda x: (x-np.mean(x)) / (np.max(x)-np.min(x)), axis=1)\n",
    "\n",
    "# Fill NaN values with 0's, transpose matrix, and drop users with no ratings\n",
    "util_matrix_norm.fillna(0, inplace=True)\n",
    "util_matrix_norm = util_matrix_norm.T\n",
    "util_matrix_norm = util_matrix_norm.loc[:, (util_matrix_norm != 0).any(axis=0)]\n",
    "\n",
    "# Save the utility matrix in scipy's sparse matrix format\n",
    "util_matrix_sparse = sp.sparse.csr_matrix(util_matrix_norm.values)"
   ]
  },
  {
   "cell_type": "code",
   "execution_count": 358,
   "id": "9f964435-8b38-4286-b75f-a567942c9c5c",
   "metadata": {},
   "outputs": [
    {
     "data": {
      "text/html": [
       "<div>\n",
       "<style scoped>\n",
       "    .dataframe tbody tr th:only-of-type {\n",
       "        vertical-align: middle;\n",
       "    }\n",
       "\n",
       "    .dataframe tbody tr th {\n",
       "        vertical-align: top;\n",
       "    }\n",
       "\n",
       "    .dataframe thead th {\n",
       "        text-align: right;\n",
       "    }\n",
       "</style>\n",
       "<table border=\"1\" class=\"dataframe\">\n",
       "  <thead>\n",
       "    <tr style=\"text-align: right;\">\n",
       "      <th>userId</th>\n",
       "      <th>626</th>\n",
       "      <th>847</th>\n",
       "      <th>997</th>\n",
       "      <th>1748</th>\n",
       "      <th>1920</th>\n",
       "      <th>1924</th>\n",
       "      <th>2012</th>\n",
       "      <th>2269</th>\n",
       "      <th>2271</th>\n",
       "      <th>2403</th>\n",
       "      <th>...</th>\n",
       "      <th>160730</th>\n",
       "      <th>160747</th>\n",
       "      <th>160805</th>\n",
       "      <th>161046</th>\n",
       "      <th>161184</th>\n",
       "      <th>161220</th>\n",
       "      <th>161342</th>\n",
       "      <th>161586</th>\n",
       "      <th>161928</th>\n",
       "      <th>162271</th>\n",
       "    </tr>\n",
       "    <tr>\n",
       "      <th>title</th>\n",
       "      <th></th>\n",
       "      <th></th>\n",
       "      <th></th>\n",
       "      <th></th>\n",
       "      <th></th>\n",
       "      <th></th>\n",
       "      <th></th>\n",
       "      <th></th>\n",
       "      <th></th>\n",
       "      <th></th>\n",
       "      <th></th>\n",
       "      <th></th>\n",
       "      <th></th>\n",
       "      <th></th>\n",
       "      <th></th>\n",
       "      <th></th>\n",
       "      <th></th>\n",
       "      <th></th>\n",
       "      <th></th>\n",
       "      <th></th>\n",
       "      <th></th>\n",
       "    </tr>\n",
       "  </thead>\n",
       "  <tbody>\n",
       "    <tr>\n",
       "      <th>'night Mother (1986)</th>\n",
       "      <td>0.0</td>\n",
       "      <td>0.0</td>\n",
       "      <td>0.0</td>\n",
       "      <td>0.0</td>\n",
       "      <td>0.0</td>\n",
       "      <td>0.0</td>\n",
       "      <td>0.0</td>\n",
       "      <td>0.0</td>\n",
       "      <td>0.0</td>\n",
       "      <td>0.0</td>\n",
       "      <td>...</td>\n",
       "      <td>0.0</td>\n",
       "      <td>0.0</td>\n",
       "      <td>0.0</td>\n",
       "      <td>0.0</td>\n",
       "      <td>0.0</td>\n",
       "      <td>0.0</td>\n",
       "      <td>0.0</td>\n",
       "      <td>0.0</td>\n",
       "      <td>0.0</td>\n",
       "      <td>0.0</td>\n",
       "    </tr>\n",
       "    <tr>\n",
       "      <th>(500) Days of Summer (2009)</th>\n",
       "      <td>0.0</td>\n",
       "      <td>0.0</td>\n",
       "      <td>0.0</td>\n",
       "      <td>0.0</td>\n",
       "      <td>0.0</td>\n",
       "      <td>0.0</td>\n",
       "      <td>0.0</td>\n",
       "      <td>0.0</td>\n",
       "      <td>0.0</td>\n",
       "      <td>0.0</td>\n",
       "      <td>...</td>\n",
       "      <td>0.0</td>\n",
       "      <td>0.0</td>\n",
       "      <td>0.0</td>\n",
       "      <td>0.0</td>\n",
       "      <td>0.0</td>\n",
       "      <td>0.0</td>\n",
       "      <td>0.0</td>\n",
       "      <td>0.0</td>\n",
       "      <td>0.0</td>\n",
       "      <td>0.0</td>\n",
       "    </tr>\n",
       "    <tr>\n",
       "      <th>10 Cloverfield Lane (2016)</th>\n",
       "      <td>0.0</td>\n",
       "      <td>0.0</td>\n",
       "      <td>0.0</td>\n",
       "      <td>0.0</td>\n",
       "      <td>0.0</td>\n",
       "      <td>0.0</td>\n",
       "      <td>0.0</td>\n",
       "      <td>0.0</td>\n",
       "      <td>0.0</td>\n",
       "      <td>0.0</td>\n",
       "      <td>...</td>\n",
       "      <td>0.0</td>\n",
       "      <td>0.0</td>\n",
       "      <td>0.0</td>\n",
       "      <td>0.0</td>\n",
       "      <td>0.0</td>\n",
       "      <td>0.0</td>\n",
       "      <td>0.0</td>\n",
       "      <td>0.0</td>\n",
       "      <td>0.0</td>\n",
       "      <td>0.0</td>\n",
       "    </tr>\n",
       "    <tr>\n",
       "      <th>10 Things I Hate About You (1999)</th>\n",
       "      <td>0.0</td>\n",
       "      <td>0.0</td>\n",
       "      <td>0.0</td>\n",
       "      <td>0.0</td>\n",
       "      <td>0.0</td>\n",
       "      <td>0.0</td>\n",
       "      <td>0.0</td>\n",
       "      <td>0.0</td>\n",
       "      <td>0.0</td>\n",
       "      <td>0.0</td>\n",
       "      <td>...</td>\n",
       "      <td>0.0</td>\n",
       "      <td>0.0</td>\n",
       "      <td>0.0</td>\n",
       "      <td>0.0</td>\n",
       "      <td>0.0</td>\n",
       "      <td>0.0</td>\n",
       "      <td>0.0</td>\n",
       "      <td>0.0</td>\n",
       "      <td>0.0</td>\n",
       "      <td>0.0</td>\n",
       "    </tr>\n",
       "    <tr>\n",
       "      <th>10,000 BC (2008)</th>\n",
       "      <td>0.0</td>\n",
       "      <td>0.0</td>\n",
       "      <td>0.0</td>\n",
       "      <td>0.0</td>\n",
       "      <td>0.0</td>\n",
       "      <td>0.0</td>\n",
       "      <td>0.0</td>\n",
       "      <td>0.0</td>\n",
       "      <td>0.0</td>\n",
       "      <td>0.0</td>\n",
       "      <td>...</td>\n",
       "      <td>0.0</td>\n",
       "      <td>0.0</td>\n",
       "      <td>0.0</td>\n",
       "      <td>0.0</td>\n",
       "      <td>0.0</td>\n",
       "      <td>0.0</td>\n",
       "      <td>0.0</td>\n",
       "      <td>0.0</td>\n",
       "      <td>0.0</td>\n",
       "      <td>0.0</td>\n",
       "    </tr>\n",
       "    <tr>\n",
       "      <th>...</th>\n",
       "      <td>...</td>\n",
       "      <td>...</td>\n",
       "      <td>...</td>\n",
       "      <td>...</td>\n",
       "      <td>...</td>\n",
       "      <td>...</td>\n",
       "      <td>...</td>\n",
       "      <td>...</td>\n",
       "      <td>...</td>\n",
       "      <td>...</td>\n",
       "      <td>...</td>\n",
       "      <td>...</td>\n",
       "      <td>...</td>\n",
       "      <td>...</td>\n",
       "      <td>...</td>\n",
       "      <td>...</td>\n",
       "      <td>...</td>\n",
       "      <td>...</td>\n",
       "      <td>...</td>\n",
       "      <td>...</td>\n",
       "      <td>...</td>\n",
       "    </tr>\n",
       "    <tr>\n",
       "      <th>[REC] (2007)</th>\n",
       "      <td>0.0</td>\n",
       "      <td>0.0</td>\n",
       "      <td>0.0</td>\n",
       "      <td>0.0</td>\n",
       "      <td>0.0</td>\n",
       "      <td>0.0</td>\n",
       "      <td>0.0</td>\n",
       "      <td>0.0</td>\n",
       "      <td>0.0</td>\n",
       "      <td>0.0</td>\n",
       "      <td>...</td>\n",
       "      <td>0.0</td>\n",
       "      <td>0.0</td>\n",
       "      <td>0.0</td>\n",
       "      <td>0.0</td>\n",
       "      <td>0.0</td>\n",
       "      <td>0.0</td>\n",
       "      <td>0.0</td>\n",
       "      <td>0.0</td>\n",
       "      <td>0.0</td>\n",
       "      <td>0.0</td>\n",
       "    </tr>\n",
       "    <tr>\n",
       "      <th>[REC] 4: Apocalypse (2014)</th>\n",
       "      <td>0.0</td>\n",
       "      <td>0.0</td>\n",
       "      <td>0.0</td>\n",
       "      <td>0.0</td>\n",
       "      <td>0.0</td>\n",
       "      <td>0.0</td>\n",
       "      <td>0.0</td>\n",
       "      <td>0.0</td>\n",
       "      <td>0.0</td>\n",
       "      <td>0.0</td>\n",
       "      <td>...</td>\n",
       "      <td>0.0</td>\n",
       "      <td>0.0</td>\n",
       "      <td>0.0</td>\n",
       "      <td>0.0</td>\n",
       "      <td>0.0</td>\n",
       "      <td>0.0</td>\n",
       "      <td>0.0</td>\n",
       "      <td>0.0</td>\n",
       "      <td>0.0</td>\n",
       "      <td>0.0</td>\n",
       "    </tr>\n",
       "    <tr>\n",
       "      <th>xXx (2002)</th>\n",
       "      <td>0.0</td>\n",
       "      <td>0.0</td>\n",
       "      <td>0.0</td>\n",
       "      <td>0.0</td>\n",
       "      <td>0.0</td>\n",
       "      <td>0.0</td>\n",
       "      <td>0.0</td>\n",
       "      <td>0.0</td>\n",
       "      <td>0.0</td>\n",
       "      <td>0.0</td>\n",
       "      <td>...</td>\n",
       "      <td>0.0</td>\n",
       "      <td>0.0</td>\n",
       "      <td>0.0</td>\n",
       "      <td>0.0</td>\n",
       "      <td>0.0</td>\n",
       "      <td>0.0</td>\n",
       "      <td>0.0</td>\n",
       "      <td>0.0</td>\n",
       "      <td>0.0</td>\n",
       "      <td>0.0</td>\n",
       "    </tr>\n",
       "    <tr>\n",
       "      <th>¡Three Amigos! (1986)</th>\n",
       "      <td>0.0</td>\n",
       "      <td>0.0</td>\n",
       "      <td>0.0</td>\n",
       "      <td>0.0</td>\n",
       "      <td>0.0</td>\n",
       "      <td>0.0</td>\n",
       "      <td>0.0</td>\n",
       "      <td>0.0</td>\n",
       "      <td>0.0</td>\n",
       "      <td>0.0</td>\n",
       "      <td>...</td>\n",
       "      <td>0.0</td>\n",
       "      <td>0.0</td>\n",
       "      <td>0.0</td>\n",
       "      <td>0.0</td>\n",
       "      <td>0.0</td>\n",
       "      <td>0.0</td>\n",
       "      <td>0.0</td>\n",
       "      <td>0.0</td>\n",
       "      <td>0.0</td>\n",
       "      <td>0.0</td>\n",
       "    </tr>\n",
       "    <tr>\n",
       "      <th>Я худею (2018)</th>\n",
       "      <td>0.0</td>\n",
       "      <td>0.0</td>\n",
       "      <td>0.0</td>\n",
       "      <td>0.0</td>\n",
       "      <td>0.0</td>\n",
       "      <td>0.0</td>\n",
       "      <td>0.0</td>\n",
       "      <td>0.0</td>\n",
       "      <td>0.0</td>\n",
       "      <td>0.0</td>\n",
       "      <td>...</td>\n",
       "      <td>0.0</td>\n",
       "      <td>0.0</td>\n",
       "      <td>0.0</td>\n",
       "      <td>0.0</td>\n",
       "      <td>0.0</td>\n",
       "      <td>0.0</td>\n",
       "      <td>0.0</td>\n",
       "      <td>0.0</td>\n",
       "      <td>0.0</td>\n",
       "      <td>0.0</td>\n",
       "    </tr>\n",
       "  </tbody>\n",
       "</table>\n",
       "<p>3693 rows × 662 columns</p>\n",
       "</div>"
      ],
      "text/plain": [
       "userId                             626     847     997     1748    1920    \\\n",
       "title                                                                       \n",
       "'night Mother (1986)                  0.0     0.0     0.0     0.0     0.0   \n",
       "(500) Days of Summer (2009)           0.0     0.0     0.0     0.0     0.0   \n",
       "10 Cloverfield Lane (2016)            0.0     0.0     0.0     0.0     0.0   \n",
       "10 Things I Hate About You (1999)     0.0     0.0     0.0     0.0     0.0   \n",
       "10,000 BC (2008)                      0.0     0.0     0.0     0.0     0.0   \n",
       "...                                   ...     ...     ...     ...     ...   \n",
       "[REC] (2007)                          0.0     0.0     0.0     0.0     0.0   \n",
       "[REC] 4: Apocalypse (2014)            0.0     0.0     0.0     0.0     0.0   \n",
       "xXx (2002)                            0.0     0.0     0.0     0.0     0.0   \n",
       "¡Three Amigos! (1986)                 0.0     0.0     0.0     0.0     0.0   \n",
       "Я худею (2018)                        0.0     0.0     0.0     0.0     0.0   \n",
       "\n",
       "userId                             1924    2012    2269    2271    2403    \\\n",
       "title                                                                       \n",
       "'night Mother (1986)                  0.0     0.0     0.0     0.0     0.0   \n",
       "(500) Days of Summer (2009)           0.0     0.0     0.0     0.0     0.0   \n",
       "10 Cloverfield Lane (2016)            0.0     0.0     0.0     0.0     0.0   \n",
       "10 Things I Hate About You (1999)     0.0     0.0     0.0     0.0     0.0   \n",
       "10,000 BC (2008)                      0.0     0.0     0.0     0.0     0.0   \n",
       "...                                   ...     ...     ...     ...     ...   \n",
       "[REC] (2007)                          0.0     0.0     0.0     0.0     0.0   \n",
       "[REC] 4: Apocalypse (2014)            0.0     0.0     0.0     0.0     0.0   \n",
       "xXx (2002)                            0.0     0.0     0.0     0.0     0.0   \n",
       "¡Three Amigos! (1986)                 0.0     0.0     0.0     0.0     0.0   \n",
       "Я худею (2018)                        0.0     0.0     0.0     0.0     0.0   \n",
       "\n",
       "userId                             ...  160730  160747  160805  161046  \\\n",
       "title                              ...                                   \n",
       "'night Mother (1986)               ...     0.0     0.0     0.0     0.0   \n",
       "(500) Days of Summer (2009)        ...     0.0     0.0     0.0     0.0   \n",
       "10 Cloverfield Lane (2016)         ...     0.0     0.0     0.0     0.0   \n",
       "10 Things I Hate About You (1999)  ...     0.0     0.0     0.0     0.0   \n",
       "10,000 BC (2008)                   ...     0.0     0.0     0.0     0.0   \n",
       "...                                ...     ...     ...     ...     ...   \n",
       "[REC] (2007)                       ...     0.0     0.0     0.0     0.0   \n",
       "[REC] 4: Apocalypse (2014)         ...     0.0     0.0     0.0     0.0   \n",
       "xXx (2002)                         ...     0.0     0.0     0.0     0.0   \n",
       "¡Three Amigos! (1986)              ...     0.0     0.0     0.0     0.0   \n",
       "Я худею (2018)                     ...     0.0     0.0     0.0     0.0   \n",
       "\n",
       "userId                             161184  161220  161342  161586  161928  \\\n",
       "title                                                                       \n",
       "'night Mother (1986)                  0.0     0.0     0.0     0.0     0.0   \n",
       "(500) Days of Summer (2009)           0.0     0.0     0.0     0.0     0.0   \n",
       "10 Cloverfield Lane (2016)            0.0     0.0     0.0     0.0     0.0   \n",
       "10 Things I Hate About You (1999)     0.0     0.0     0.0     0.0     0.0   \n",
       "10,000 BC (2008)                      0.0     0.0     0.0     0.0     0.0   \n",
       "...                                   ...     ...     ...     ...     ...   \n",
       "[REC] (2007)                          0.0     0.0     0.0     0.0     0.0   \n",
       "[REC] 4: Apocalypse (2014)            0.0     0.0     0.0     0.0     0.0   \n",
       "xXx (2002)                            0.0     0.0     0.0     0.0     0.0   \n",
       "¡Three Amigos! (1986)                 0.0     0.0     0.0     0.0     0.0   \n",
       "Я худею (2018)                        0.0     0.0     0.0     0.0     0.0   \n",
       "\n",
       "userId                             162271  \n",
       "title                                      \n",
       "'night Mother (1986)                  0.0  \n",
       "(500) Days of Summer (2009)           0.0  \n",
       "10 Cloverfield Lane (2016)            0.0  \n",
       "10 Things I Hate About You (1999)     0.0  \n",
       "10,000 BC (2008)                      0.0  \n",
       "...                                   ...  \n",
       "[REC] (2007)                          0.0  \n",
       "[REC] 4: Apocalypse (2014)            0.0  \n",
       "xXx (2002)                            0.0  \n",
       "¡Three Amigos! (1986)                 0.0  \n",
       "Я худею (2018)                        0.0  \n",
       "\n",
       "[3693 rows x 662 columns]"
      ]
     },
     "execution_count": 358,
     "metadata": {},
     "output_type": "execute_result"
    }
   ],
   "source": [
    "util_matrix_norm"
   ]
  },
  {
   "cell_type": "markdown",
   "id": "0a82b1fb-ba8a-4482-b32d-52d6d6a8593a",
   "metadata": {
    "id": "0a82b1fb-ba8a-4482-b32d-52d6d6a8593a"
   },
   "source": [
    "We can now compute the similarity between users based on the ratings they have given various movies"
   ]
  },
  {
   "cell_type": "code",
   "execution_count": 570,
   "id": "52702f97-8031-45e0-9666-63219d568fad",
   "metadata": {
    "colab": {
     "base_uri": "https://localhost:8080/",
     "height": 287
    },
    "id": "52702f97-8031-45e0-9666-63219d568fad",
    "outputId": "787eeef2-7fe4-4802-a147-47a794eb7600"
   },
   "outputs": [],
   "source": [
    "# Compute  the similarity matrix using the cosine similarity metric\n",
    "cosine_similarity_matrix = cosine_similarity(util_matrix_sparse, util_matrix_sparse)\n",
    "\n",
    "# Save the matrix as a dataframe to allow for easier indexing\n",
    "#sim_df = pd.DataFrame(cosine_similarity_matrix,\n",
    "                     #index=util_matrix_norm.columns,\n",
    "                     #columns=util_matrix_norm.columns)\n",
    "\n",
    "#sim_df[:5]"
   ]
  },
  {
   "cell_type": "markdown",
   "id": "0a1c19e3-0991-46a8-bdbd-a5e5d1dd4836",
   "metadata": {
    "id": "0a1c19e3-0991-46a8-bdbd-a5e5d1dd4836"
   },
   "source": [
    "## Top-N Recommendations"
   ]
  },
  {
   "cell_type": "code",
   "execution_count": 572,
   "id": "41419ee7-0476-41cd-ba94-e70d91083a0c",
   "metadata": {
    "id": "41419ee7-0476-41cd-ba94-e70d91083a0c"
   },
   "outputs": [],
   "source": [
    "def collab_generate_top_N_recommendations(movie_title, N=9):\n",
    "\n",
    "    # Compute the pairwise distances using cosine between the movies\n",
    "    #cosine_similarity_matrix = cosine_similarity(util_matrix_norm, util_matrix_norm)\n",
    "\n",
    "    # Find the index for the movie title\n",
    "    if movie_title not in util_matrix_norm.index:\n",
    "        raise ValueError(f\"Movie title '{movie_title}' not found in the dataset.\")\n",
    "\n",
    "    movie_index = util_matrix_norm.index.get_loc(movie_title)\n",
    "\n",
    "    # Find the top similar movies\n",
    "    similar_indices = cosine_similarity_matrix[movie_index].argsort()[1:N+1]\n",
    "\n",
    "    # Retrieve the movie titles for the similar indices\n",
    "    similar_movies = util_matrix_norm.index[similar_indices].tolist()\n",
    "\n",
    "    recommendations = '\\n'.join(similar_movies)\n",
    "\n",
    "    return recommendations"
   ]
  },
  {
   "cell_type": "code",
   "execution_count": 582,
   "id": "9f063db3-8e89-4be8-9372-2a2290811531",
   "metadata": {
    "colab": {
     "base_uri": "https://localhost:8080/"
    },
    "id": "9f063db3-8e89-4be8-9372-2a2290811531",
    "outputId": "ab78bb24-d0b2-4672-eb6e-ab0e8c82d1d8",
    "scrolled": true
   },
   "outputs": [
    {
     "name": "stdout",
     "output_type": "stream",
     "text": [
      "Youth in Revolt (2009)\n",
      "Your Name. (2016)\n",
      "Young Sherlock Holmes (1985)\n",
      "Young People Fucking (a.k.a. YPF) (2007)\n",
      "Young Guns II (1990)\n",
      "Young Guns (1988)\n",
      "Young Frankenstein (1974)\n",
      "Young Einstein (1988)\n",
      "Young Doctors in Love (1982)\n"
     ]
    }
   ],
   "source": [
    "recommended_movies = collab_generate_top_N_recommendations('Young Einstein (1988)')\n",
    "print(recommended_movies)"
   ]
  },
  {
   "cell_type": "code",
   "execution_count": 189,
   "id": "n0WsdeOepH4s",
   "metadata": {
    "id": "n0WsdeOepH4s"
   },
   "outputs": [],
   "source": [
    "#util_matrix_norm[util_matrix_norm.index.str.contains('Zootopia')]"
   ]
  },
  {
   "cell_type": "code",
   "execution_count": 190,
   "id": "dt4ovm9qp0Fb",
   "metadata": {
    "id": "dt4ovm9qp0Fb"
   },
   "outputs": [],
   "source": [
    "#indices = list(util_matrix_norm.index)\n",
    "#indices.index('¡Three Amigos! (1986)')"
   ]
  },
  {
   "cell_type": "code",
   "execution_count": 191,
   "id": "9OiXBdvZq1Rz",
   "metadata": {
    "id": "9OiXBdvZq1Rz"
   },
   "outputs": [],
   "source": [
    "#similar_indices = (distance_matrix[3650].argsort()[1:6])\n",
    "#for i in similar_indices:\n",
    "  #print(indices[i])"
   ]
  },
  {
   "cell_type": "code",
   "execution_count": 78,
   "id": "d2fcc364-f5bb-4f28-a1b9-4a41acd3b0f8",
   "metadata": {},
   "outputs": [],
   "source": [
    "import pickle"
   ]
  },
  {
   "cell_type": "code",
   "execution_count": 457,
   "id": "zSK-_66grXGo",
   "metadata": {
    "id": "zSK-_66grXGo"
   },
   "outputs": [],
   "source": [
    "pickle.dump(sampled_df, open('movies_list.pkl', 'wb'))\n",
    "pickle.dump(cosine_similarity_matrix, open('similarity.pkl', 'wb'))\n",
    "pickle.dump(util_matrix_norm, open('util_matrix.pkl', 'wb'))"
   ]
  },
  {
   "cell_type": "code",
   "execution_count": 459,
   "id": "50f97648-b77b-48e8-ba3b-4423c17a3010",
   "metadata": {},
   "outputs": [
    {
     "data": {
      "text/html": [
       "<div>\n",
       "<style scoped>\n",
       "    .dataframe tbody tr th:only-of-type {\n",
       "        vertical-align: middle;\n",
       "    }\n",
       "\n",
       "    .dataframe tbody tr th {\n",
       "        vertical-align: top;\n",
       "    }\n",
       "\n",
       "    .dataframe thead th {\n",
       "        text-align: right;\n",
       "    }\n",
       "</style>\n",
       "<table border=\"1\" class=\"dataframe\">\n",
       "  <thead>\n",
       "    <tr style=\"text-align: right;\">\n",
       "      <th></th>\n",
       "      <th>userId</th>\n",
       "      <th>movieId</th>\n",
       "      <th>rating</th>\n",
       "      <th>title</th>\n",
       "    </tr>\n",
       "  </thead>\n",
       "  <tbody>\n",
       "    <tr>\n",
       "      <th>0</th>\n",
       "      <td>3</td>\n",
       "      <td>103228</td>\n",
       "      <td>3.0</td>\n",
       "      <td>Pacific Rim (2013)</td>\n",
       "    </tr>\n",
       "    <tr>\n",
       "      <th>1</th>\n",
       "      <td>12</td>\n",
       "      <td>55052</td>\n",
       "      <td>4.0</td>\n",
       "      <td>Atonement (2007)</td>\n",
       "    </tr>\n",
       "    <tr>\n",
       "      <th>2</th>\n",
       "      <td>43</td>\n",
       "      <td>2949</td>\n",
       "      <td>3.5</td>\n",
       "      <td>Dr. No (1962)</td>\n",
       "    </tr>\n",
       "    <tr>\n",
       "      <th>3</th>\n",
       "      <td>49</td>\n",
       "      <td>367</td>\n",
       "      <td>3.0</td>\n",
       "      <td>Mask, The (1994)</td>\n",
       "    </tr>\n",
       "    <tr>\n",
       "      <th>4</th>\n",
       "      <td>58</td>\n",
       "      <td>376</td>\n",
       "      <td>3.0</td>\n",
       "      <td>River Wild, The (1994)</td>\n",
       "    </tr>\n",
       "    <tr>\n",
       "      <th>...</th>\n",
       "      <td>...</td>\n",
       "      <td>...</td>\n",
       "      <td>...</td>\n",
       "      <td>...</td>\n",
       "    </tr>\n",
       "    <tr>\n",
       "      <th>9995</th>\n",
       "      <td>162504</td>\n",
       "      <td>1371</td>\n",
       "      <td>4.0</td>\n",
       "      <td>Star Trek: The Motion Picture (1979)</td>\n",
       "    </tr>\n",
       "    <tr>\n",
       "      <th>9996</th>\n",
       "      <td>162510</td>\n",
       "      <td>3793</td>\n",
       "      <td>3.5</td>\n",
       "      <td>X-Men (2000)</td>\n",
       "    </tr>\n",
       "    <tr>\n",
       "      <th>9997</th>\n",
       "      <td>162516</td>\n",
       "      <td>1013</td>\n",
       "      <td>3.0</td>\n",
       "      <td>Parent Trap, The (1961)</td>\n",
       "    </tr>\n",
       "    <tr>\n",
       "      <th>9998</th>\n",
       "      <td>162516</td>\n",
       "      <td>48414</td>\n",
       "      <td>3.0</td>\n",
       "      <td>Open Season (2006)</td>\n",
       "    </tr>\n",
       "    <tr>\n",
       "      <th>9999</th>\n",
       "      <td>162534</td>\n",
       "      <td>52973</td>\n",
       "      <td>3.0</td>\n",
       "      <td>Knocked Up (2007)</td>\n",
       "    </tr>\n",
       "  </tbody>\n",
       "</table>\n",
       "<p>10000 rows × 4 columns</p>\n",
       "</div>"
      ],
      "text/plain": [
       "      userId  movieId  rating                                 title\n",
       "0          3   103228     3.0                    Pacific Rim (2013)\n",
       "1         12    55052     4.0                      Atonement (2007)\n",
       "2         43     2949     3.5                         Dr. No (1962)\n",
       "3         49      367     3.0                      Mask, The (1994)\n",
       "4         58      376     3.0                River Wild, The (1994)\n",
       "...      ...      ...     ...                                   ...\n",
       "9995  162504     1371     4.0  Star Trek: The Motion Picture (1979)\n",
       "9996  162510     3793     3.5                          X-Men (2000)\n",
       "9997  162516     1013     3.0               Parent Trap, The (1961)\n",
       "9998  162516    48414     3.0                    Open Season (2006)\n",
       "9999  162534    52973     3.0                     Knocked Up (2007)\n",
       "\n",
       "[10000 rows x 4 columns]"
      ]
     },
     "execution_count": 459,
     "metadata": {},
     "output_type": "execute_result"
    }
   ],
   "source": [
    "pickle.load(open('movies_list.pkl', 'rb'))"
   ]
  },
  {
   "cell_type": "code",
   "execution_count": null,
   "id": "ac29495f-4c2d-44a7-b36d-bf659e3f3913",
   "metadata": {},
   "outputs": [],
   "source": []
  }
 ],
 "metadata": {
  "colab": {
   "provenance": []
  },
  "kernelspec": {
   "display_name": "Python 3 (ipykernel)",
   "language": "python",
   "name": "python3"
  },
  "language_info": {
   "codemirror_mode": {
    "name": "ipython",
    "version": 3
   },
   "file_extension": ".py",
   "mimetype": "text/x-python",
   "name": "python",
   "nbconvert_exporter": "python",
   "pygments_lexer": "ipython3",
   "version": "3.11.5"
  }
 },
 "nbformat": 4,
 "nbformat_minor": 5
}
